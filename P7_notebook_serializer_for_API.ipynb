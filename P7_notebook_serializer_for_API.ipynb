{
 "cells": [
  {
   "cell_type": "markdown",
   "id": "c5080b2b-f70d-4ee5-aa51-75c2bfc36959",
   "metadata": {},
   "source": [
    "# Projet 7 Implémentez un modèle de scoring - DISCH Anthony - Notebook"
   ]
  },
  {
   "cell_type": "markdown",
   "id": "64a83748-44f0-4727-babf-60051da94b59",
   "metadata": {},
   "source": [
    "Vous êtes Data Scientist au sein d'une société financière, nommée \"Prêt à dépenser\",  qui propose des crédits à la consommation pour des personnes ayant peu ou pas du tout d'historique de prêt."
   ]
  },
  {
   "cell_type": "markdown",
   "id": "41e41920-4624-4353-9666-8eba3e7db9c6",
   "metadata": {},
   "source": [
    "L’entreprise souhaite mettre en œuvre un outil de “scoring crédit” pour calculer la probabilité qu’un client rembourse son crédit, puis classifie la demande en crédit accordé ou refusé. Elle souhaite donc développer un algorithme de classification en s’appuyant sur des sources de données variées (données comportementales, données provenant d'autres institutions financières, etc.).\n",
    "\n",
    "De plus, les chargés de relation client ont fait remonter le fait que les clients sont de plus en plus demandeurs de transparence vis-à-vis des décisions d’octroi de crédit. Cette demande de transparence des clients va tout à fait dans le sens des valeurs que l’entreprise veut incarner.\n",
    "\n",
    "Prêt à dépenser décide donc de développer un dashboard interactif pour que les chargés de relation client puissent à la fois expliquer de façon la plus transparente possible les décisions d’octroi de crédit, mais également permettre à leurs clients de disposer de leurs informations personnelles et de les explorer facilement. "
   ]
  },
  {
   "cell_type": "markdown",
   "id": "8bfb11a1-ef1c-4cac-aae2-28beea30d829",
   "metadata": {},
   "source": [
    "# Votre mission"
   ]
  },
  {
   "cell_type": "markdown",
   "id": "b9f2ede8-51e3-4969-b93b-45eb40345d3b",
   "metadata": {},
   "source": [
    "- Construire un modèle de scoring qui donnera une prédiction sur la probabilité de faillite d'un client de façon automatique.\n",
    "- Construire un dashboard interactif à destination des gestionnaires de la relation client permettant d'interpréter les prédictions faites par le modèle, et d’améliorer la connaissance client des chargés de relation client."
   ]
  },
  {
   "cell_type": "markdown",
   "id": "44c615c0-960b-4240-b110-7d4227330adb",
   "metadata": {},
   "source": [
    "Michaël, votre manager, vous incite à sélectionner un kernel Kaggle pour vous faciliter la préparation des données nécessaires à l’élaboration du modèle de scoring. Vous analyserez ce kernel et l’adapterez pour vous assurer qu’il répond aux besoins de votre mission.\n",
    "\n",
    "Vous pourrez ainsi vous focaliser sur l’élaboration du modèle, son optimisation et sa compréhension."
   ]
  },
  {
   "cell_type": "markdown",
   "id": "e7921584-6ae6-4df2-809b-3a2f6dadd40c",
   "metadata": {},
   "source": [
    "<b>J'utilise le kernel Kaggle suivant : https://www.kaggle.com/code/willkoehrsen/start-here-a-gentle-introduction. J'ai notamment récupéré le chargement des fichiers et l'analyse exploratoire de données.</b>"
   ]
  },
  {
   "cell_type": "markdown",
   "id": "5f8403e7-6bda-40c5-84a5-3ef21236529c",
   "metadata": {},
   "source": [
    "## Spécifications du dashboard"
   ]
  },
  {
   "cell_type": "markdown",
   "id": "71e0e9af-4e87-45a2-8246-96fb1b07e5b4",
   "metadata": {},
   "source": [
    "Michaël vous a fourni des spécifications pour le dashboard interactif. Celui-ci devra contenir au minimum les fonctionnalités suivantes :\n",
    "- Permettre de visualiser le score et l’interprétation de ce score pour chaque client de façon intelligible pour une personne non experte en data science.\n",
    "- Permettre de visualiser des informations descriptives relatives à un client (via un système de filtre).\n",
    "- Permettre de comparer les informations descriptives relatives à un client à l’ensemble des clients ou à un groupe de clients similaires."
   ]
  },
  {
   "cell_type": "markdown",
   "id": "8ac621d7-d733-4764-8d20-55c3f87abea5",
   "metadata": {},
   "source": [
    "# Metrics"
   ]
  },
  {
   "cell_type": "markdown",
   "id": "d7a11ce0-4f24-43cb-b18a-5b9187e2d993",
   "metadata": {},
   "source": [
    "- TP : True Positives : The cases in which we predicted 1 and the actual output was also 1.\n",
    "    - crédit non attribué, pas de remboursement : pas de perte ni de gain\n",
    "- TN : The cases in which we predicted 0 and the actual output was 0.\n",
    "    - crédit attribué, rembourse : gain des intérêts du crédit\n",
    "- FP : The cases in which we predicted 1 and the actual output was 0.\n",
    "    - crédit non attribué, aurait remboursé : perte des intérêts du crédit\n",
    "- FN : The cases in which we predicted 0 and the actual output was 1.\n",
    "    - crédit attribué, ne rembourse pas : perte des intérêts du crédit et une partie du crédit"
   ]
  },
  {
   "cell_type": "markdown",
   "id": "852318c3-1703-44a8-84cc-bea789b12412",
   "metadata": {},
   "source": [
    "<b>On cherche à tout prix à minimiser les FN.</b>"
   ]
  },
  {
   "cell_type": "markdown",
   "id": "484ea6db-8022-456e-80b5-00cc4b042c9d",
   "metadata": {},
   "source": [
    "- precision : It is the number of correct positive results divided by the number of positive results predicted by the classifier.\n",
    "\n",
    "![PRECISION](img/precision.png)\n",
    "\n",
    "- recall : It is the number of correct positive results divided by the number of all relevant samples\n",
    "\n",
    "![RECALL](img/recall.png)\n",
    "\n",
    "- F1-score : F1 Score is used to measure a test’s accuracy. F1 Score is the Harmonic Mean between precision and recall.\n",
    "\n",
    "![F1-SCORE](img/f1.png)\n",
    "\n",
    "- AUC\n",
    "\n",
    "![AUC](img/auc.png)\n",
    "\n",
    "- matrice de confusion\n",
    "\n",
    "![CONFUSION-MATRIX](img/confusion_matrix.png)"
   ]
  },
  {
   "cell_type": "markdown",
   "id": "8d67e799-c005-4be3-ab88-5a4ffff5c2e6",
   "metadata": {},
   "source": [
    "# Imports"
   ]
  },
  {
   "cell_type": "code",
   "execution_count": 1,
   "id": "7466e8ef-c4bd-48b0-b2d1-79009bb3966c",
   "metadata": {},
   "outputs": [],
   "source": [
    "# numpy and pandas for data manipulation\n",
    "import numpy as np\n",
    "import pandas as pd \n",
    "\n",
    "# sklearn preprocessing for dealing with categorical variables\n",
    "import lightgbm as lgb\n",
    "from sklearn.preprocessing import MinMaxScaler\n",
    "\n",
    "# File system manangement\n",
    "import os\n",
    "\n",
    "# Suppress warnings \n",
    "import warnings\n",
    "warnings.filterwarnings('ignore')\n",
    "\n",
    "# matplotlib and seaborn for plotting\n",
    "import matplotlib.pyplot as plt\n",
    "import seaborn as sns\n",
    "\n",
    "import joblib\n",
    "from pydantic import BaseModel, create_model, Field"
   ]
  },
  {
   "cell_type": "code",
   "execution_count": 2,
   "id": "9b2331b9-dd7c-4113-9d42-f2665b7fd8ff",
   "metadata": {},
   "outputs": [],
   "source": [
    "# import sys\n",
    "# !{sys.executable} -m pip install -U sklearn"
   ]
  },
  {
   "cell_type": "code",
   "execution_count": 3,
   "id": "499cce71-d3ef-4b2e-981e-53daaf441920",
   "metadata": {},
   "outputs": [],
   "source": [
    "# import sklearn\n",
    "# print(sklearn.__version__)"
   ]
  },
  {
   "cell_type": "code",
   "execution_count": 4,
   "id": "467318cf-ea75-4515-bc8d-ef1c70e3cea4",
   "metadata": {},
   "outputs": [],
   "source": [
    "# import sys\n",
    "# !{sys.executable} -m pip install -U sklearn"
   ]
  },
  {
   "cell_type": "markdown",
   "id": "00fc0600-aa44-424d-8e7f-6873eac3c57c",
   "metadata": {
    "tags": []
   },
   "source": [
    "# Les données"
   ]
  },
  {
   "cell_type": "markdown",
   "id": "85db0973-6bea-4bda-8ddb-cc9154d90c29",
   "metadata": {},
   "source": [
    "## Read application_train"
   ]
  },
  {
   "cell_type": "code",
   "execution_count": 5,
   "id": "427619e9-8bf2-4047-be3e-0de4eeb7e613",
   "metadata": {},
   "outputs": [],
   "source": [
    "data = pd.read_csv('data/application_train.csv')"
   ]
  },
  {
   "cell_type": "code",
   "execution_count": 6,
   "id": "a8fba360-4ee5-4601-8faa-49b0b9720152",
   "metadata": {},
   "outputs": [
    {
     "data": {
      "text/html": [
       "<div>\n",
       "<style scoped>\n",
       "    .dataframe tbody tr th:only-of-type {\n",
       "        vertical-align: middle;\n",
       "    }\n",
       "\n",
       "    .dataframe tbody tr th {\n",
       "        vertical-align: top;\n",
       "    }\n",
       "\n",
       "    .dataframe thead th {\n",
       "        text-align: right;\n",
       "    }\n",
       "</style>\n",
       "<table border=\"1\" class=\"dataframe\">\n",
       "  <thead>\n",
       "    <tr style=\"text-align: right;\">\n",
       "      <th></th>\n",
       "      <th>SK_ID_CURR</th>\n",
       "      <th>TARGET</th>\n",
       "      <th>NAME_CONTRACT_TYPE</th>\n",
       "      <th>CODE_GENDER</th>\n",
       "      <th>FLAG_OWN_CAR</th>\n",
       "      <th>FLAG_OWN_REALTY</th>\n",
       "      <th>CNT_CHILDREN</th>\n",
       "      <th>AMT_INCOME_TOTAL</th>\n",
       "      <th>AMT_CREDIT</th>\n",
       "      <th>AMT_ANNUITY</th>\n",
       "      <th>...</th>\n",
       "      <th>FLAG_DOCUMENT_18</th>\n",
       "      <th>FLAG_DOCUMENT_19</th>\n",
       "      <th>FLAG_DOCUMENT_20</th>\n",
       "      <th>FLAG_DOCUMENT_21</th>\n",
       "      <th>AMT_REQ_CREDIT_BUREAU_HOUR</th>\n",
       "      <th>AMT_REQ_CREDIT_BUREAU_DAY</th>\n",
       "      <th>AMT_REQ_CREDIT_BUREAU_WEEK</th>\n",
       "      <th>AMT_REQ_CREDIT_BUREAU_MON</th>\n",
       "      <th>AMT_REQ_CREDIT_BUREAU_QRT</th>\n",
       "      <th>AMT_REQ_CREDIT_BUREAU_YEAR</th>\n",
       "    </tr>\n",
       "  </thead>\n",
       "  <tbody>\n",
       "    <tr>\n",
       "      <th>0</th>\n",
       "      <td>100002</td>\n",
       "      <td>1</td>\n",
       "      <td>Cash loans</td>\n",
       "      <td>M</td>\n",
       "      <td>N</td>\n",
       "      <td>Y</td>\n",
       "      <td>0</td>\n",
       "      <td>202500.0</td>\n",
       "      <td>406597.5</td>\n",
       "      <td>24700.5</td>\n",
       "      <td>...</td>\n",
       "      <td>0</td>\n",
       "      <td>0</td>\n",
       "      <td>0</td>\n",
       "      <td>0</td>\n",
       "      <td>0.0</td>\n",
       "      <td>0.0</td>\n",
       "      <td>0.0</td>\n",
       "      <td>0.0</td>\n",
       "      <td>0.0</td>\n",
       "      <td>1.0</td>\n",
       "    </tr>\n",
       "    <tr>\n",
       "      <th>1</th>\n",
       "      <td>100003</td>\n",
       "      <td>0</td>\n",
       "      <td>Cash loans</td>\n",
       "      <td>F</td>\n",
       "      <td>N</td>\n",
       "      <td>N</td>\n",
       "      <td>0</td>\n",
       "      <td>270000.0</td>\n",
       "      <td>1293502.5</td>\n",
       "      <td>35698.5</td>\n",
       "      <td>...</td>\n",
       "      <td>0</td>\n",
       "      <td>0</td>\n",
       "      <td>0</td>\n",
       "      <td>0</td>\n",
       "      <td>0.0</td>\n",
       "      <td>0.0</td>\n",
       "      <td>0.0</td>\n",
       "      <td>0.0</td>\n",
       "      <td>0.0</td>\n",
       "      <td>0.0</td>\n",
       "    </tr>\n",
       "    <tr>\n",
       "      <th>2</th>\n",
       "      <td>100004</td>\n",
       "      <td>0</td>\n",
       "      <td>Revolving loans</td>\n",
       "      <td>M</td>\n",
       "      <td>Y</td>\n",
       "      <td>Y</td>\n",
       "      <td>0</td>\n",
       "      <td>67500.0</td>\n",
       "      <td>135000.0</td>\n",
       "      <td>6750.0</td>\n",
       "      <td>...</td>\n",
       "      <td>0</td>\n",
       "      <td>0</td>\n",
       "      <td>0</td>\n",
       "      <td>0</td>\n",
       "      <td>0.0</td>\n",
       "      <td>0.0</td>\n",
       "      <td>0.0</td>\n",
       "      <td>0.0</td>\n",
       "      <td>0.0</td>\n",
       "      <td>0.0</td>\n",
       "    </tr>\n",
       "    <tr>\n",
       "      <th>3</th>\n",
       "      <td>100006</td>\n",
       "      <td>0</td>\n",
       "      <td>Cash loans</td>\n",
       "      <td>F</td>\n",
       "      <td>N</td>\n",
       "      <td>Y</td>\n",
       "      <td>0</td>\n",
       "      <td>135000.0</td>\n",
       "      <td>312682.5</td>\n",
       "      <td>29686.5</td>\n",
       "      <td>...</td>\n",
       "      <td>0</td>\n",
       "      <td>0</td>\n",
       "      <td>0</td>\n",
       "      <td>0</td>\n",
       "      <td>NaN</td>\n",
       "      <td>NaN</td>\n",
       "      <td>NaN</td>\n",
       "      <td>NaN</td>\n",
       "      <td>NaN</td>\n",
       "      <td>NaN</td>\n",
       "    </tr>\n",
       "    <tr>\n",
       "      <th>4</th>\n",
       "      <td>100007</td>\n",
       "      <td>0</td>\n",
       "      <td>Cash loans</td>\n",
       "      <td>M</td>\n",
       "      <td>N</td>\n",
       "      <td>Y</td>\n",
       "      <td>0</td>\n",
       "      <td>121500.0</td>\n",
       "      <td>513000.0</td>\n",
       "      <td>21865.5</td>\n",
       "      <td>...</td>\n",
       "      <td>0</td>\n",
       "      <td>0</td>\n",
       "      <td>0</td>\n",
       "      <td>0</td>\n",
       "      <td>0.0</td>\n",
       "      <td>0.0</td>\n",
       "      <td>0.0</td>\n",
       "      <td>0.0</td>\n",
       "      <td>0.0</td>\n",
       "      <td>0.0</td>\n",
       "    </tr>\n",
       "  </tbody>\n",
       "</table>\n",
       "<p>5 rows × 122 columns</p>\n",
       "</div>"
      ],
      "text/plain": [
       "   SK_ID_CURR  TARGET NAME_CONTRACT_TYPE CODE_GENDER FLAG_OWN_CAR  \\\n",
       "0      100002       1         Cash loans           M            N   \n",
       "1      100003       0         Cash loans           F            N   \n",
       "2      100004       0    Revolving loans           M            Y   \n",
       "3      100006       0         Cash loans           F            N   \n",
       "4      100007       0         Cash loans           M            N   \n",
       "\n",
       "  FLAG_OWN_REALTY  CNT_CHILDREN  AMT_INCOME_TOTAL  AMT_CREDIT  AMT_ANNUITY  \\\n",
       "0               Y             0          202500.0    406597.5      24700.5   \n",
       "1               N             0          270000.0   1293502.5      35698.5   \n",
       "2               Y             0           67500.0    135000.0       6750.0   \n",
       "3               Y             0          135000.0    312682.5      29686.5   \n",
       "4               Y             0          121500.0    513000.0      21865.5   \n",
       "\n",
       "   ...  FLAG_DOCUMENT_18 FLAG_DOCUMENT_19 FLAG_DOCUMENT_20 FLAG_DOCUMENT_21  \\\n",
       "0  ...                 0                0                0                0   \n",
       "1  ...                 0                0                0                0   \n",
       "2  ...                 0                0                0                0   \n",
       "3  ...                 0                0                0                0   \n",
       "4  ...                 0                0                0                0   \n",
       "\n",
       "  AMT_REQ_CREDIT_BUREAU_HOUR AMT_REQ_CREDIT_BUREAU_DAY  \\\n",
       "0                        0.0                       0.0   \n",
       "1                        0.0                       0.0   \n",
       "2                        0.0                       0.0   \n",
       "3                        NaN                       NaN   \n",
       "4                        0.0                       0.0   \n",
       "\n",
       "   AMT_REQ_CREDIT_BUREAU_WEEK  AMT_REQ_CREDIT_BUREAU_MON  \\\n",
       "0                         0.0                        0.0   \n",
       "1                         0.0                        0.0   \n",
       "2                         0.0                        0.0   \n",
       "3                         NaN                        NaN   \n",
       "4                         0.0                        0.0   \n",
       "\n",
       "   AMT_REQ_CREDIT_BUREAU_QRT  AMT_REQ_CREDIT_BUREAU_YEAR  \n",
       "0                        0.0                         1.0  \n",
       "1                        0.0                         0.0  \n",
       "2                        0.0                         0.0  \n",
       "3                        NaN                         NaN  \n",
       "4                        0.0                         0.0  \n",
       "\n",
       "[5 rows x 122 columns]"
      ]
     },
     "execution_count": 6,
     "metadata": {},
     "output_type": "execute_result"
    }
   ],
   "source": [
    "data.head()"
   ]
  },
  {
   "cell_type": "markdown",
   "id": "fdc5fc64-609e-48b4-bbbd-415a15f4a435",
   "metadata": {},
   "source": [
    "## Add engineered features"
   ]
  },
  {
   "cell_type": "code",
   "execution_count": 7,
   "id": "4aa0c7a5-ac48-48ca-86c7-a2d554ca69d3",
   "metadata": {},
   "outputs": [],
   "source": [
    "data['CREDIT_INCOME_PERCENT'] = data['AMT_CREDIT'] / data['AMT_INCOME_TOTAL']\n",
    "data['ANNUITY_INCOME_PERCENT'] = data['AMT_ANNUITY'] / data['AMT_INCOME_TOTAL']\n",
    "data['CREDIT_TERM'] = data['AMT_ANNUITY'] / data['AMT_CREDIT']\n",
    "data['DAYS_EMPLOYED_PERCENT'] = data['DAYS_EMPLOYED'] / data['DAYS_BIRTH']"
   ]
  },
  {
   "cell_type": "code",
   "execution_count": 8,
   "id": "8d34166a-ba9d-47d1-8f8e-66ba944cf805",
   "metadata": {},
   "outputs": [],
   "source": [
    "data['YEARS_BIRTH'] = (data['DAYS_BIRTH']/-365).apply(lambda x: int(x))\n",
    "data = data.reset_index(drop=True)"
   ]
  },
  {
   "cell_type": "code",
   "execution_count": 9,
   "id": "5d1f4b11-8d4e-487a-8115-3061d84159cc",
   "metadata": {},
   "outputs": [],
   "source": [
    "categorical_feats = [\n",
    "    f for f in data.columns if data[f].dtype == 'object'\n",
    "]\n",
    "\n",
    "categorical_feats\n",
    "for f_ in categorical_feats:\n",
    "    # data[f_], _ = pd.factorize(data[f_])\n",
    "    # Set feature type as categorical\n",
    "    data[f_] = data[f_].astype('category')"
   ]
  },
  {
   "cell_type": "code",
   "execution_count": 10,
   "id": "0d6f9376-b7d2-4edd-90b5-63b2893233c4",
   "metadata": {},
   "outputs": [
    {
     "data": {
      "text/plain": [
       "16"
      ]
     },
     "execution_count": 10,
     "metadata": {},
     "output_type": "execute_result"
    }
   ],
   "source": [
    "len(categorical_feats)"
   ]
  },
  {
   "cell_type": "code",
   "execution_count": 11,
   "id": "3c8860d0-d2b4-4a6a-a2f0-9f573ff3bc7b",
   "metadata": {},
   "outputs": [],
   "source": [
    "numeric_feats = data.select_dtypes(include=np.number).columns.tolist()"
   ]
  },
  {
   "cell_type": "code",
   "execution_count": 12,
   "id": "4d01e4fd-20fa-4970-bc49-547d840f8ea6",
   "metadata": {},
   "outputs": [
    {
     "data": {
      "text/plain": [
       "111"
      ]
     },
     "execution_count": 12,
     "metadata": {},
     "output_type": "execute_result"
    }
   ],
   "source": [
    "len(numeric_feats)"
   ]
  },
  {
   "cell_type": "markdown",
   "id": "37e22d72-68f9-46d3-a749-c03f24a5873d",
   "metadata": {
    "tags": []
   },
   "source": [
    "## Features by importance split score"
   ]
  },
  {
   "cell_type": "code",
   "execution_count": 13,
   "id": "dd15df52-81e3-49ae-9bae-63bf85b4ecdf",
   "metadata": {},
   "outputs": [],
   "source": [
    "columns_feature_importance_split_score = ['AMT_CREDIT',\n",
    " 'AMT_GOODS_PRICE',\n",
    " 'CODE_GENDER',\n",
    " 'CREDIT_TERM',\n",
    " 'DAYS_BIRTH',\n",
    " 'DAYS_EMPLOYED',\n",
    " 'DAYS_EMPLOYED_PERCENT',\n",
    " 'DEF_60_CNT_SOCIAL_CIRCLE',\n",
    " 'EXT_SOURCE_1',\n",
    " 'EXT_SOURCE_2',\n",
    " 'EXT_SOURCE_3',\n",
    " 'FLAG_DOCUMENT_3',\n",
    " 'FLAG_EMP_PHONE',\n",
    " 'NAME_CONTRACT_TYPE',\n",
    " 'NAME_EDUCATION_TYPE',\n",
    " 'OWN_CAR_AGE',\n",
    " 'REGION_RATING_CLIENT',\n",
    " 'REGION_RATING_CLIENT_W_CITY',\n",
    " 'REG_CITY_NOT_LIVE_CITY',\n",
    " 'DEF_30_CNT_SOCIAL_CIRCLE',\n",
    " 'FLAG_WORK_PHONE',\n",
    " 'OCCUPATION_TYPE',\n",
    " 'ORGANIZATION_TYPE',\n",
    " 'AMT_ANNUITY',\n",
    " 'ANNUITY_INCOME_PERCENT',\n",
    " 'NAME_INCOME_TYPE',\n",
    " 'FLAG_OWN_CAR',\n",
    " 'DAYS_ID_PUBLISH',\n",
    " 'REG_CITY_NOT_WORK_CITY',\n",
    " 'AMT_REQ_CREDIT_BUREAU_DAY',\n",
    " 'DAYS_LAST_PHONE_CHANGE',\n",
    " 'AMT_REQ_CREDIT_BUREAU_YEAR',\n",
    " 'EMERGENCYSTATE_MODE',\n",
    " 'FLOORSMAX_MEDI',\n",
    " 'FLAG_PHONE',\n",
    " 'LIVE_CITY_NOT_WORK_CITY',\n",
    " 'NAME_FAMILY_STATUS',\n",
    " 'CREDIT_INCOME_PERCENT',\n",
    " 'AMT_REQ_CREDIT_BUREAU_WEEK',\n",
    " 'FLAG_DOCUMENT_5',\n",
    " 'REG_REGION_NOT_WORK_REGION',\n",
    " 'FLAG_DOCUMENT_8',\n",
    " 'FLOORSMAX_AVG',\n",
    " 'NAME_HOUSING_TYPE',\n",
    " 'AMT_REQ_CREDIT_BUREAU_QRT',\n",
    " 'HOUSETYPE_MODE',\n",
    " 'LIVINGAREA_AVG',\n",
    " 'REG_REGION_NOT_LIVE_REGION',\n",
    " 'TOTALAREA_MODE',\n",
    " 'YEARS_BEGINEXPLUATATION_MEDI',\n",
    " 'AMT_INCOME_TOTAL'] # need to add 'AMT_INCOME_TOTAL' for feature engineering"
   ]
  },
  {
   "cell_type": "markdown",
   "id": "ec2b89e0-ee22-4954-af85-52e366d1dd30",
   "metadata": {},
   "source": [
    "## Enregistrement pour API/Dashboard"
   ]
  },
  {
   "cell_type": "code",
   "execution_count": 14,
   "id": "75928a5b-8407-46ac-9f46-6421aa533132",
   "metadata": {},
   "outputs": [],
   "source": [
    "columns_feature_target = ['TARGET']"
   ]
  },
  {
   "cell_type": "code",
   "execution_count": 15,
   "id": "07fcf7af-4aaa-4806-b864-9d12db0f0670",
   "metadata": {},
   "outputs": [],
   "source": [
    "columns_feature_displayable = ['SK_ID_CURR','CODE_GENDER','YEARS_BIRTH','NAME_FAMILY_STATUS','CNT_CHILDREN',\n",
    "             'NAME_EDUCATION_TYPE','FLAG_OWN_CAR','FLAG_OWN_REALTY','NAME_HOUSING_TYPE',\n",
    "             'NAME_INCOME_TYPE','AMT_INCOME_TOTAL','AMT_CREDIT','AMT_ANNUITY']"
   ]
  },
  {
   "cell_type": "code",
   "execution_count": 16,
   "id": "a639edb5-4119-4b27-9549-373536fc42cd",
   "metadata": {},
   "outputs": [
    {
     "name": "stdout",
     "output_type": "stream",
     "text": [
      "13\n"
     ]
    }
   ],
   "source": [
    "print(len(columns_feature_displayable))"
   ]
  },
  {
   "cell_type": "code",
   "execution_count": 17,
   "id": "bba3feac-ffbb-4708-96da-67e120e6d528",
   "metadata": {},
   "outputs": [
    {
     "data": {
      "text/html": [
       "<div>\n",
       "<style scoped>\n",
       "    .dataframe tbody tr th:only-of-type {\n",
       "        vertical-align: middle;\n",
       "    }\n",
       "\n",
       "    .dataframe tbody tr th {\n",
       "        vertical-align: top;\n",
       "    }\n",
       "\n",
       "    .dataframe thead th {\n",
       "        text-align: right;\n",
       "    }\n",
       "</style>\n",
       "<table border=\"1\" class=\"dataframe\">\n",
       "  <thead>\n",
       "    <tr style=\"text-align: right;\">\n",
       "      <th></th>\n",
       "      <th>SK_ID_CURR</th>\n",
       "      <th>CODE_GENDER</th>\n",
       "      <th>YEARS_BIRTH</th>\n",
       "      <th>NAME_FAMILY_STATUS</th>\n",
       "      <th>CNT_CHILDREN</th>\n",
       "      <th>NAME_EDUCATION_TYPE</th>\n",
       "      <th>FLAG_OWN_CAR</th>\n",
       "      <th>FLAG_OWN_REALTY</th>\n",
       "      <th>NAME_HOUSING_TYPE</th>\n",
       "      <th>NAME_INCOME_TYPE</th>\n",
       "      <th>AMT_INCOME_TOTAL</th>\n",
       "      <th>AMT_CREDIT</th>\n",
       "      <th>AMT_ANNUITY</th>\n",
       "    </tr>\n",
       "  </thead>\n",
       "  <tbody>\n",
       "    <tr>\n",
       "      <th>0</th>\n",
       "      <td>100002</td>\n",
       "      <td>M</td>\n",
       "      <td>25</td>\n",
       "      <td>Single / not married</td>\n",
       "      <td>0</td>\n",
       "      <td>Secondary / secondary special</td>\n",
       "      <td>N</td>\n",
       "      <td>Y</td>\n",
       "      <td>House / apartment</td>\n",
       "      <td>Working</td>\n",
       "      <td>202500.0</td>\n",
       "      <td>406597.5</td>\n",
       "      <td>24700.5</td>\n",
       "    </tr>\n",
       "    <tr>\n",
       "      <th>1</th>\n",
       "      <td>100003</td>\n",
       "      <td>F</td>\n",
       "      <td>45</td>\n",
       "      <td>Married</td>\n",
       "      <td>0</td>\n",
       "      <td>Higher education</td>\n",
       "      <td>N</td>\n",
       "      <td>N</td>\n",
       "      <td>House / apartment</td>\n",
       "      <td>State servant</td>\n",
       "      <td>270000.0</td>\n",
       "      <td>1293502.5</td>\n",
       "      <td>35698.5</td>\n",
       "    </tr>\n",
       "    <tr>\n",
       "      <th>2</th>\n",
       "      <td>100004</td>\n",
       "      <td>M</td>\n",
       "      <td>52</td>\n",
       "      <td>Single / not married</td>\n",
       "      <td>0</td>\n",
       "      <td>Secondary / secondary special</td>\n",
       "      <td>Y</td>\n",
       "      <td>Y</td>\n",
       "      <td>House / apartment</td>\n",
       "      <td>Working</td>\n",
       "      <td>67500.0</td>\n",
       "      <td>135000.0</td>\n",
       "      <td>6750.0</td>\n",
       "    </tr>\n",
       "    <tr>\n",
       "      <th>3</th>\n",
       "      <td>100006</td>\n",
       "      <td>F</td>\n",
       "      <td>52</td>\n",
       "      <td>Civil marriage</td>\n",
       "      <td>0</td>\n",
       "      <td>Secondary / secondary special</td>\n",
       "      <td>N</td>\n",
       "      <td>Y</td>\n",
       "      <td>House / apartment</td>\n",
       "      <td>Working</td>\n",
       "      <td>135000.0</td>\n",
       "      <td>312682.5</td>\n",
       "      <td>29686.5</td>\n",
       "    </tr>\n",
       "    <tr>\n",
       "      <th>4</th>\n",
       "      <td>100007</td>\n",
       "      <td>M</td>\n",
       "      <td>54</td>\n",
       "      <td>Single / not married</td>\n",
       "      <td>0</td>\n",
       "      <td>Secondary / secondary special</td>\n",
       "      <td>N</td>\n",
       "      <td>Y</td>\n",
       "      <td>House / apartment</td>\n",
       "      <td>Working</td>\n",
       "      <td>121500.0</td>\n",
       "      <td>513000.0</td>\n",
       "      <td>21865.5</td>\n",
       "    </tr>\n",
       "    <tr>\n",
       "      <th>...</th>\n",
       "      <td>...</td>\n",
       "      <td>...</td>\n",
       "      <td>...</td>\n",
       "      <td>...</td>\n",
       "      <td>...</td>\n",
       "      <td>...</td>\n",
       "      <td>...</td>\n",
       "      <td>...</td>\n",
       "      <td>...</td>\n",
       "      <td>...</td>\n",
       "      <td>...</td>\n",
       "      <td>...</td>\n",
       "      <td>...</td>\n",
       "    </tr>\n",
       "    <tr>\n",
       "      <th>307506</th>\n",
       "      <td>456251</td>\n",
       "      <td>M</td>\n",
       "      <td>25</td>\n",
       "      <td>Separated</td>\n",
       "      <td>0</td>\n",
       "      <td>Secondary / secondary special</td>\n",
       "      <td>N</td>\n",
       "      <td>N</td>\n",
       "      <td>With parents</td>\n",
       "      <td>Working</td>\n",
       "      <td>157500.0</td>\n",
       "      <td>254700.0</td>\n",
       "      <td>27558.0</td>\n",
       "    </tr>\n",
       "    <tr>\n",
       "      <th>307507</th>\n",
       "      <td>456252</td>\n",
       "      <td>F</td>\n",
       "      <td>56</td>\n",
       "      <td>Widow</td>\n",
       "      <td>0</td>\n",
       "      <td>Secondary / secondary special</td>\n",
       "      <td>N</td>\n",
       "      <td>Y</td>\n",
       "      <td>House / apartment</td>\n",
       "      <td>Pensioner</td>\n",
       "      <td>72000.0</td>\n",
       "      <td>269550.0</td>\n",
       "      <td>12001.5</td>\n",
       "    </tr>\n",
       "    <tr>\n",
       "      <th>307508</th>\n",
       "      <td>456253</td>\n",
       "      <td>F</td>\n",
       "      <td>41</td>\n",
       "      <td>Separated</td>\n",
       "      <td>0</td>\n",
       "      <td>Higher education</td>\n",
       "      <td>N</td>\n",
       "      <td>Y</td>\n",
       "      <td>House / apartment</td>\n",
       "      <td>Working</td>\n",
       "      <td>153000.0</td>\n",
       "      <td>677664.0</td>\n",
       "      <td>29979.0</td>\n",
       "    </tr>\n",
       "    <tr>\n",
       "      <th>307509</th>\n",
       "      <td>456254</td>\n",
       "      <td>F</td>\n",
       "      <td>32</td>\n",
       "      <td>Married</td>\n",
       "      <td>0</td>\n",
       "      <td>Secondary / secondary special</td>\n",
       "      <td>N</td>\n",
       "      <td>Y</td>\n",
       "      <td>House / apartment</td>\n",
       "      <td>Commercial associate</td>\n",
       "      <td>171000.0</td>\n",
       "      <td>370107.0</td>\n",
       "      <td>20205.0</td>\n",
       "    </tr>\n",
       "    <tr>\n",
       "      <th>307510</th>\n",
       "      <td>456255</td>\n",
       "      <td>F</td>\n",
       "      <td>46</td>\n",
       "      <td>Married</td>\n",
       "      <td>0</td>\n",
       "      <td>Higher education</td>\n",
       "      <td>N</td>\n",
       "      <td>N</td>\n",
       "      <td>House / apartment</td>\n",
       "      <td>Commercial associate</td>\n",
       "      <td>157500.0</td>\n",
       "      <td>675000.0</td>\n",
       "      <td>49117.5</td>\n",
       "    </tr>\n",
       "  </tbody>\n",
       "</table>\n",
       "<p>307511 rows × 13 columns</p>\n",
       "</div>"
      ],
      "text/plain": [
       "        SK_ID_CURR CODE_GENDER  YEARS_BIRTH    NAME_FAMILY_STATUS  \\\n",
       "0           100002           M           25  Single / not married   \n",
       "1           100003           F           45               Married   \n",
       "2           100004           M           52  Single / not married   \n",
       "3           100006           F           52        Civil marriage   \n",
       "4           100007           M           54  Single / not married   \n",
       "...            ...         ...          ...                   ...   \n",
       "307506      456251           M           25             Separated   \n",
       "307507      456252           F           56                 Widow   \n",
       "307508      456253           F           41             Separated   \n",
       "307509      456254           F           32               Married   \n",
       "307510      456255           F           46               Married   \n",
       "\n",
       "        CNT_CHILDREN            NAME_EDUCATION_TYPE FLAG_OWN_CAR  \\\n",
       "0                  0  Secondary / secondary special            N   \n",
       "1                  0               Higher education            N   \n",
       "2                  0  Secondary / secondary special            Y   \n",
       "3                  0  Secondary / secondary special            N   \n",
       "4                  0  Secondary / secondary special            N   \n",
       "...              ...                            ...          ...   \n",
       "307506             0  Secondary / secondary special            N   \n",
       "307507             0  Secondary / secondary special            N   \n",
       "307508             0               Higher education            N   \n",
       "307509             0  Secondary / secondary special            N   \n",
       "307510             0               Higher education            N   \n",
       "\n",
       "       FLAG_OWN_REALTY  NAME_HOUSING_TYPE      NAME_INCOME_TYPE  \\\n",
       "0                    Y  House / apartment               Working   \n",
       "1                    N  House / apartment         State servant   \n",
       "2                    Y  House / apartment               Working   \n",
       "3                    Y  House / apartment               Working   \n",
       "4                    Y  House / apartment               Working   \n",
       "...                ...                ...                   ...   \n",
       "307506               N       With parents               Working   \n",
       "307507               Y  House / apartment             Pensioner   \n",
       "307508               Y  House / apartment               Working   \n",
       "307509               Y  House / apartment  Commercial associate   \n",
       "307510               N  House / apartment  Commercial associate   \n",
       "\n",
       "        AMT_INCOME_TOTAL  AMT_CREDIT  AMT_ANNUITY  \n",
       "0               202500.0    406597.5      24700.5  \n",
       "1               270000.0   1293502.5      35698.5  \n",
       "2                67500.0    135000.0       6750.0  \n",
       "3               135000.0    312682.5      29686.5  \n",
       "4               121500.0    513000.0      21865.5  \n",
       "...                  ...         ...          ...  \n",
       "307506          157500.0    254700.0      27558.0  \n",
       "307507           72000.0    269550.0      12001.5  \n",
       "307508          153000.0    677664.0      29979.0  \n",
       "307509          171000.0    370107.0      20205.0  \n",
       "307510          157500.0    675000.0      49117.5  \n",
       "\n",
       "[307511 rows x 13 columns]"
      ]
     },
     "execution_count": 17,
     "metadata": {},
     "output_type": "execute_result"
    }
   ],
   "source": [
    "data[columns_feature_displayable]"
   ]
  },
  {
   "cell_type": "code",
   "execution_count": 18,
   "id": "44bcfd23-0266-44f4-8a4a-97fe8df1611d",
   "metadata": {},
   "outputs": [
    {
     "name": "stdout",
     "output_type": "stream",
     "text": [
      "51\n"
     ]
    }
   ],
   "source": [
    "print(len(columns_feature_importance_split_score))"
   ]
  },
  {
   "cell_type": "code",
   "execution_count": 19,
   "id": "35aa5921-cca4-45cc-9e5b-f2993a3caea6",
   "metadata": {},
   "outputs": [
    {
     "data": {
      "text/html": [
       "<div>\n",
       "<style scoped>\n",
       "    .dataframe tbody tr th:only-of-type {\n",
       "        vertical-align: middle;\n",
       "    }\n",
       "\n",
       "    .dataframe tbody tr th {\n",
       "        vertical-align: top;\n",
       "    }\n",
       "\n",
       "    .dataframe thead th {\n",
       "        text-align: right;\n",
       "    }\n",
       "</style>\n",
       "<table border=\"1\" class=\"dataframe\">\n",
       "  <thead>\n",
       "    <tr style=\"text-align: right;\">\n",
       "      <th></th>\n",
       "      <th>AMT_CREDIT</th>\n",
       "      <th>AMT_GOODS_PRICE</th>\n",
       "      <th>CODE_GENDER</th>\n",
       "      <th>CREDIT_TERM</th>\n",
       "      <th>DAYS_BIRTH</th>\n",
       "      <th>DAYS_EMPLOYED</th>\n",
       "      <th>DAYS_EMPLOYED_PERCENT</th>\n",
       "      <th>DEF_60_CNT_SOCIAL_CIRCLE</th>\n",
       "      <th>EXT_SOURCE_1</th>\n",
       "      <th>EXT_SOURCE_2</th>\n",
       "      <th>...</th>\n",
       "      <th>FLAG_DOCUMENT_8</th>\n",
       "      <th>FLOORSMAX_AVG</th>\n",
       "      <th>NAME_HOUSING_TYPE</th>\n",
       "      <th>AMT_REQ_CREDIT_BUREAU_QRT</th>\n",
       "      <th>HOUSETYPE_MODE</th>\n",
       "      <th>LIVINGAREA_AVG</th>\n",
       "      <th>REG_REGION_NOT_LIVE_REGION</th>\n",
       "      <th>TOTALAREA_MODE</th>\n",
       "      <th>YEARS_BEGINEXPLUATATION_MEDI</th>\n",
       "      <th>AMT_INCOME_TOTAL</th>\n",
       "    </tr>\n",
       "  </thead>\n",
       "  <tbody>\n",
       "    <tr>\n",
       "      <th>0</th>\n",
       "      <td>406597.5</td>\n",
       "      <td>351000.0</td>\n",
       "      <td>M</td>\n",
       "      <td>0.060749</td>\n",
       "      <td>-9461</td>\n",
       "      <td>-637</td>\n",
       "      <td>0.067329</td>\n",
       "      <td>2.0</td>\n",
       "      <td>0.083037</td>\n",
       "      <td>0.262949</td>\n",
       "      <td>...</td>\n",
       "      <td>0</td>\n",
       "      <td>0.0833</td>\n",
       "      <td>House / apartment</td>\n",
       "      <td>0.0</td>\n",
       "      <td>block of flats</td>\n",
       "      <td>0.0190</td>\n",
       "      <td>0</td>\n",
       "      <td>0.0149</td>\n",
       "      <td>0.9722</td>\n",
       "      <td>202500.0</td>\n",
       "    </tr>\n",
       "    <tr>\n",
       "      <th>1</th>\n",
       "      <td>1293502.5</td>\n",
       "      <td>1129500.0</td>\n",
       "      <td>F</td>\n",
       "      <td>0.027598</td>\n",
       "      <td>-16765</td>\n",
       "      <td>-1188</td>\n",
       "      <td>0.070862</td>\n",
       "      <td>0.0</td>\n",
       "      <td>0.311267</td>\n",
       "      <td>0.622246</td>\n",
       "      <td>...</td>\n",
       "      <td>0</td>\n",
       "      <td>0.2917</td>\n",
       "      <td>House / apartment</td>\n",
       "      <td>0.0</td>\n",
       "      <td>block of flats</td>\n",
       "      <td>0.0549</td>\n",
       "      <td>0</td>\n",
       "      <td>0.0714</td>\n",
       "      <td>0.9851</td>\n",
       "      <td>270000.0</td>\n",
       "    </tr>\n",
       "    <tr>\n",
       "      <th>2</th>\n",
       "      <td>135000.0</td>\n",
       "      <td>135000.0</td>\n",
       "      <td>M</td>\n",
       "      <td>0.050000</td>\n",
       "      <td>-19046</td>\n",
       "      <td>-225</td>\n",
       "      <td>0.011814</td>\n",
       "      <td>0.0</td>\n",
       "      <td>NaN</td>\n",
       "      <td>0.555912</td>\n",
       "      <td>...</td>\n",
       "      <td>0</td>\n",
       "      <td>NaN</td>\n",
       "      <td>House / apartment</td>\n",
       "      <td>0.0</td>\n",
       "      <td>NaN</td>\n",
       "      <td>NaN</td>\n",
       "      <td>0</td>\n",
       "      <td>NaN</td>\n",
       "      <td>NaN</td>\n",
       "      <td>67500.0</td>\n",
       "    </tr>\n",
       "    <tr>\n",
       "      <th>3</th>\n",
       "      <td>312682.5</td>\n",
       "      <td>297000.0</td>\n",
       "      <td>F</td>\n",
       "      <td>0.094941</td>\n",
       "      <td>-19005</td>\n",
       "      <td>-3039</td>\n",
       "      <td>0.159905</td>\n",
       "      <td>0.0</td>\n",
       "      <td>NaN</td>\n",
       "      <td>0.650442</td>\n",
       "      <td>...</td>\n",
       "      <td>0</td>\n",
       "      <td>NaN</td>\n",
       "      <td>House / apartment</td>\n",
       "      <td>NaN</td>\n",
       "      <td>NaN</td>\n",
       "      <td>NaN</td>\n",
       "      <td>0</td>\n",
       "      <td>NaN</td>\n",
       "      <td>NaN</td>\n",
       "      <td>135000.0</td>\n",
       "    </tr>\n",
       "    <tr>\n",
       "      <th>4</th>\n",
       "      <td>513000.0</td>\n",
       "      <td>513000.0</td>\n",
       "      <td>M</td>\n",
       "      <td>0.042623</td>\n",
       "      <td>-19932</td>\n",
       "      <td>-3038</td>\n",
       "      <td>0.152418</td>\n",
       "      <td>0.0</td>\n",
       "      <td>NaN</td>\n",
       "      <td>0.322738</td>\n",
       "      <td>...</td>\n",
       "      <td>1</td>\n",
       "      <td>NaN</td>\n",
       "      <td>House / apartment</td>\n",
       "      <td>0.0</td>\n",
       "      <td>NaN</td>\n",
       "      <td>NaN</td>\n",
       "      <td>0</td>\n",
       "      <td>NaN</td>\n",
       "      <td>NaN</td>\n",
       "      <td>121500.0</td>\n",
       "    </tr>\n",
       "    <tr>\n",
       "      <th>...</th>\n",
       "      <td>...</td>\n",
       "      <td>...</td>\n",
       "      <td>...</td>\n",
       "      <td>...</td>\n",
       "      <td>...</td>\n",
       "      <td>...</td>\n",
       "      <td>...</td>\n",
       "      <td>...</td>\n",
       "      <td>...</td>\n",
       "      <td>...</td>\n",
       "      <td>...</td>\n",
       "      <td>...</td>\n",
       "      <td>...</td>\n",
       "      <td>...</td>\n",
       "      <td>...</td>\n",
       "      <td>...</td>\n",
       "      <td>...</td>\n",
       "      <td>...</td>\n",
       "      <td>...</td>\n",
       "      <td>...</td>\n",
       "      <td>...</td>\n",
       "    </tr>\n",
       "    <tr>\n",
       "      <th>307506</th>\n",
       "      <td>254700.0</td>\n",
       "      <td>225000.0</td>\n",
       "      <td>M</td>\n",
       "      <td>0.108198</td>\n",
       "      <td>-9327</td>\n",
       "      <td>-236</td>\n",
       "      <td>0.025303</td>\n",
       "      <td>0.0</td>\n",
       "      <td>0.145570</td>\n",
       "      <td>0.681632</td>\n",
       "      <td>...</td>\n",
       "      <td>1</td>\n",
       "      <td>0.6042</td>\n",
       "      <td>With parents</td>\n",
       "      <td>NaN</td>\n",
       "      <td>block of flats</td>\n",
       "      <td>0.1965</td>\n",
       "      <td>0</td>\n",
       "      <td>0.2898</td>\n",
       "      <td>0.9876</td>\n",
       "      <td>157500.0</td>\n",
       "    </tr>\n",
       "    <tr>\n",
       "      <th>307507</th>\n",
       "      <td>269550.0</td>\n",
       "      <td>225000.0</td>\n",
       "      <td>F</td>\n",
       "      <td>0.044524</td>\n",
       "      <td>-20775</td>\n",
       "      <td>365243</td>\n",
       "      <td>-17.580890</td>\n",
       "      <td>0.0</td>\n",
       "      <td>NaN</td>\n",
       "      <td>0.115992</td>\n",
       "      <td>...</td>\n",
       "      <td>0</td>\n",
       "      <td>0.0833</td>\n",
       "      <td>House / apartment</td>\n",
       "      <td>NaN</td>\n",
       "      <td>block of flats</td>\n",
       "      <td>0.0257</td>\n",
       "      <td>0</td>\n",
       "      <td>0.0214</td>\n",
       "      <td>0.9727</td>\n",
       "      <td>72000.0</td>\n",
       "    </tr>\n",
       "    <tr>\n",
       "      <th>307508</th>\n",
       "      <td>677664.0</td>\n",
       "      <td>585000.0</td>\n",
       "      <td>F</td>\n",
       "      <td>0.044239</td>\n",
       "      <td>-14966</td>\n",
       "      <td>-7921</td>\n",
       "      <td>0.529266</td>\n",
       "      <td>0.0</td>\n",
       "      <td>0.744026</td>\n",
       "      <td>0.535722</td>\n",
       "      <td>...</td>\n",
       "      <td>0</td>\n",
       "      <td>0.1667</td>\n",
       "      <td>House / apartment</td>\n",
       "      <td>0.0</td>\n",
       "      <td>block of flats</td>\n",
       "      <td>0.9279</td>\n",
       "      <td>0</td>\n",
       "      <td>0.7970</td>\n",
       "      <td>0.9816</td>\n",
       "      <td>153000.0</td>\n",
       "    </tr>\n",
       "    <tr>\n",
       "      <th>307509</th>\n",
       "      <td>370107.0</td>\n",
       "      <td>319500.0</td>\n",
       "      <td>F</td>\n",
       "      <td>0.054592</td>\n",
       "      <td>-11961</td>\n",
       "      <td>-4786</td>\n",
       "      <td>0.400134</td>\n",
       "      <td>0.0</td>\n",
       "      <td>NaN</td>\n",
       "      <td>0.514163</td>\n",
       "      <td>...</td>\n",
       "      <td>0</td>\n",
       "      <td>0.0417</td>\n",
       "      <td>House / apartment</td>\n",
       "      <td>0.0</td>\n",
       "      <td>block of flats</td>\n",
       "      <td>0.0061</td>\n",
       "      <td>0</td>\n",
       "      <td>0.0086</td>\n",
       "      <td>0.9771</td>\n",
       "      <td>171000.0</td>\n",
       "    </tr>\n",
       "    <tr>\n",
       "      <th>307510</th>\n",
       "      <td>675000.0</td>\n",
       "      <td>675000.0</td>\n",
       "      <td>F</td>\n",
       "      <td>0.072767</td>\n",
       "      <td>-16856</td>\n",
       "      <td>-1262</td>\n",
       "      <td>0.074869</td>\n",
       "      <td>0.0</td>\n",
       "      <td>0.734460</td>\n",
       "      <td>0.708569</td>\n",
       "      <td>...</td>\n",
       "      <td>0</td>\n",
       "      <td>0.3750</td>\n",
       "      <td>House / apartment</td>\n",
       "      <td>0.0</td>\n",
       "      <td>block of flats</td>\n",
       "      <td>0.0791</td>\n",
       "      <td>0</td>\n",
       "      <td>0.0718</td>\n",
       "      <td>0.9881</td>\n",
       "      <td>157500.0</td>\n",
       "    </tr>\n",
       "  </tbody>\n",
       "</table>\n",
       "<p>307511 rows × 51 columns</p>\n",
       "</div>"
      ],
      "text/plain": [
       "        AMT_CREDIT  AMT_GOODS_PRICE CODE_GENDER  CREDIT_TERM  DAYS_BIRTH  \\\n",
       "0         406597.5         351000.0           M     0.060749       -9461   \n",
       "1        1293502.5        1129500.0           F     0.027598      -16765   \n",
       "2         135000.0         135000.0           M     0.050000      -19046   \n",
       "3         312682.5         297000.0           F     0.094941      -19005   \n",
       "4         513000.0         513000.0           M     0.042623      -19932   \n",
       "...            ...              ...         ...          ...         ...   \n",
       "307506    254700.0         225000.0           M     0.108198       -9327   \n",
       "307507    269550.0         225000.0           F     0.044524      -20775   \n",
       "307508    677664.0         585000.0           F     0.044239      -14966   \n",
       "307509    370107.0         319500.0           F     0.054592      -11961   \n",
       "307510    675000.0         675000.0           F     0.072767      -16856   \n",
       "\n",
       "        DAYS_EMPLOYED  DAYS_EMPLOYED_PERCENT  DEF_60_CNT_SOCIAL_CIRCLE  \\\n",
       "0                -637               0.067329                       2.0   \n",
       "1               -1188               0.070862                       0.0   \n",
       "2                -225               0.011814                       0.0   \n",
       "3               -3039               0.159905                       0.0   \n",
       "4               -3038               0.152418                       0.0   \n",
       "...               ...                    ...                       ...   \n",
       "307506           -236               0.025303                       0.0   \n",
       "307507         365243             -17.580890                       0.0   \n",
       "307508          -7921               0.529266                       0.0   \n",
       "307509          -4786               0.400134                       0.0   \n",
       "307510          -1262               0.074869                       0.0   \n",
       "\n",
       "        EXT_SOURCE_1  EXT_SOURCE_2  ...  FLAG_DOCUMENT_8  FLOORSMAX_AVG  \\\n",
       "0           0.083037      0.262949  ...                0         0.0833   \n",
       "1           0.311267      0.622246  ...                0         0.2917   \n",
       "2                NaN      0.555912  ...                0            NaN   \n",
       "3                NaN      0.650442  ...                0            NaN   \n",
       "4                NaN      0.322738  ...                1            NaN   \n",
       "...              ...           ...  ...              ...            ...   \n",
       "307506      0.145570      0.681632  ...                1         0.6042   \n",
       "307507           NaN      0.115992  ...                0         0.0833   \n",
       "307508      0.744026      0.535722  ...                0         0.1667   \n",
       "307509           NaN      0.514163  ...                0         0.0417   \n",
       "307510      0.734460      0.708569  ...                0         0.3750   \n",
       "\n",
       "        NAME_HOUSING_TYPE AMT_REQ_CREDIT_BUREAU_QRT  HOUSETYPE_MODE  \\\n",
       "0       House / apartment                       0.0  block of flats   \n",
       "1       House / apartment                       0.0  block of flats   \n",
       "2       House / apartment                       0.0             NaN   \n",
       "3       House / apartment                       NaN             NaN   \n",
       "4       House / apartment                       0.0             NaN   \n",
       "...                   ...                       ...             ...   \n",
       "307506       With parents                       NaN  block of flats   \n",
       "307507  House / apartment                       NaN  block of flats   \n",
       "307508  House / apartment                       0.0  block of flats   \n",
       "307509  House / apartment                       0.0  block of flats   \n",
       "307510  House / apartment                       0.0  block of flats   \n",
       "\n",
       "        LIVINGAREA_AVG  REG_REGION_NOT_LIVE_REGION  TOTALAREA_MODE  \\\n",
       "0               0.0190                           0          0.0149   \n",
       "1               0.0549                           0          0.0714   \n",
       "2                  NaN                           0             NaN   \n",
       "3                  NaN                           0             NaN   \n",
       "4                  NaN                           0             NaN   \n",
       "...                ...                         ...             ...   \n",
       "307506          0.1965                           0          0.2898   \n",
       "307507          0.0257                           0          0.0214   \n",
       "307508          0.9279                           0          0.7970   \n",
       "307509          0.0061                           0          0.0086   \n",
       "307510          0.0791                           0          0.0718   \n",
       "\n",
       "        YEARS_BEGINEXPLUATATION_MEDI  AMT_INCOME_TOTAL  \n",
       "0                             0.9722          202500.0  \n",
       "1                             0.9851          270000.0  \n",
       "2                                NaN           67500.0  \n",
       "3                                NaN          135000.0  \n",
       "4                                NaN          121500.0  \n",
       "...                              ...               ...  \n",
       "307506                        0.9876          157500.0  \n",
       "307507                        0.9727           72000.0  \n",
       "307508                        0.9816          153000.0  \n",
       "307509                        0.9771          171000.0  \n",
       "307510                        0.9881          157500.0  \n",
       "\n",
       "[307511 rows x 51 columns]"
      ]
     },
     "execution_count": 19,
     "metadata": {},
     "output_type": "execute_result"
    }
   ],
   "source": [
    "data[columns_feature_importance_split_score]"
   ]
  },
  {
   "cell_type": "code",
   "execution_count": 20,
   "id": "4e34d75d-063c-4e81-b18e-c1ac730317c1",
   "metadata": {},
   "outputs": [
    {
     "data": {
      "text/plain": [
       "{'AMT_ANNUITY',\n",
       " 'AMT_CREDIT',\n",
       " 'AMT_GOODS_PRICE',\n",
       " 'AMT_INCOME_TOTAL',\n",
       " 'AMT_REQ_CREDIT_BUREAU_DAY',\n",
       " 'AMT_REQ_CREDIT_BUREAU_QRT',\n",
       " 'AMT_REQ_CREDIT_BUREAU_WEEK',\n",
       " 'AMT_REQ_CREDIT_BUREAU_YEAR',\n",
       " 'ANNUITY_INCOME_PERCENT',\n",
       " 'CNT_CHILDREN',\n",
       " 'CODE_GENDER',\n",
       " 'CREDIT_INCOME_PERCENT',\n",
       " 'CREDIT_TERM',\n",
       " 'DAYS_BIRTH',\n",
       " 'DAYS_EMPLOYED',\n",
       " 'DAYS_EMPLOYED_PERCENT',\n",
       " 'DAYS_ID_PUBLISH',\n",
       " 'DAYS_LAST_PHONE_CHANGE',\n",
       " 'DEF_30_CNT_SOCIAL_CIRCLE',\n",
       " 'DEF_60_CNT_SOCIAL_CIRCLE',\n",
       " 'EMERGENCYSTATE_MODE',\n",
       " 'EXT_SOURCE_1',\n",
       " 'EXT_SOURCE_2',\n",
       " 'EXT_SOURCE_3',\n",
       " 'FLAG_DOCUMENT_3',\n",
       " 'FLAG_DOCUMENT_5',\n",
       " 'FLAG_DOCUMENT_8',\n",
       " 'FLAG_EMP_PHONE',\n",
       " 'FLAG_OWN_CAR',\n",
       " 'FLAG_OWN_REALTY',\n",
       " 'FLAG_PHONE',\n",
       " 'FLAG_WORK_PHONE',\n",
       " 'FLOORSMAX_AVG',\n",
       " 'FLOORSMAX_MEDI',\n",
       " 'HOUSETYPE_MODE',\n",
       " 'LIVE_CITY_NOT_WORK_CITY',\n",
       " 'LIVINGAREA_AVG',\n",
       " 'NAME_CONTRACT_TYPE',\n",
       " 'NAME_EDUCATION_TYPE',\n",
       " 'NAME_FAMILY_STATUS',\n",
       " 'NAME_HOUSING_TYPE',\n",
       " 'NAME_INCOME_TYPE',\n",
       " 'OCCUPATION_TYPE',\n",
       " 'ORGANIZATION_TYPE',\n",
       " 'OWN_CAR_AGE',\n",
       " 'REGION_RATING_CLIENT',\n",
       " 'REGION_RATING_CLIENT_W_CITY',\n",
       " 'REG_CITY_NOT_LIVE_CITY',\n",
       " 'REG_CITY_NOT_WORK_CITY',\n",
       " 'REG_REGION_NOT_LIVE_REGION',\n",
       " 'REG_REGION_NOT_WORK_REGION',\n",
       " 'SK_ID_CURR',\n",
       " 'TARGET',\n",
       " 'TOTALAREA_MODE',\n",
       " 'YEARS_BEGINEXPLUATATION_MEDI',\n",
       " 'YEARS_BIRTH'}"
      ]
     },
     "execution_count": 20,
     "metadata": {},
     "output_type": "execute_result"
    }
   ],
   "source": [
    "columns_features_for_api_dashboard = {'TARGET'}\n",
    "columns_features_for_api_dashboard.update(columns_feature_displayable)\n",
    "columns_features_for_api_dashboard.update(columns_feature_importance_split_score)\n",
    "\n",
    "columns_features_for_api_dashboard"
   ]
  },
  {
   "cell_type": "code",
   "execution_count": 21,
   "id": "64ec9dbb-1507-4d49-a499-c98da9cc6d1f",
   "metadata": {},
   "outputs": [
    {
     "name": "stdout",
     "output_type": "stream",
     "text": [
      "56\n"
     ]
    }
   ],
   "source": [
    "print(len(columns_features_for_api_dashboard))"
   ]
  },
  {
   "cell_type": "code",
   "execution_count": 22,
   "id": "9a11be67-cf58-450d-abb7-c0333760a85b",
   "metadata": {},
   "outputs": [],
   "source": [
    "data = data[columns_features_for_api_dashboard].dropna()"
   ]
  },
  {
   "cell_type": "code",
   "execution_count": 23,
   "id": "9238f25d-448b-4bc1-997d-7093e82279b4",
   "metadata": {},
   "outputs": [],
   "source": [
    "target = data[columns_feature_target]\n",
    "\n",
    "features = data[columns_features_for_api_dashboard].drop(columns = columns_feature_target)"
   ]
  },
  {
   "cell_type": "code",
   "execution_count": 24,
   "id": "7346f9aa-ea46-4103-80df-65b46ddaa832",
   "metadata": {},
   "outputs": [],
   "source": [
    "from sklearn.model_selection import train_test_split\n",
    "\n",
    "# Séparer X et y\n",
    "# Séparer les données en train et test 80/20 avec train test split de sklearn\n",
    "X_train, X_test, y_train, y_test = train_test_split(features,\n",
    "                                                    target,\n",
    "                                                    stratify=target,\n",
    "                                                    test_size = 0.25, random_state = 0)\n",
    "\n",
    "X_test.reset_index(inplace=True, drop=True)\n",
    "y_test.reset_index(inplace=True, drop=True)"
   ]
  },
  {
   "cell_type": "code",
   "execution_count": 25,
   "id": "12da338e-04bb-440e-8d1e-47a46cf85d55",
   "metadata": {},
   "outputs": [
    {
     "data": {
      "text/plain": [
       "(3926, 55)"
      ]
     },
     "execution_count": 25,
     "metadata": {},
     "output_type": "execute_result"
    }
   ],
   "source": [
    "X_test.shape"
   ]
  },
  {
   "cell_type": "code",
   "execution_count": 26,
   "id": "15a71da6-8bdb-4755-bd5a-fa259fe8ea08",
   "metadata": {},
   "outputs": [
    {
     "data": {
      "text/plain": [
       "(3926, 1)"
      ]
     },
     "execution_count": 26,
     "metadata": {},
     "output_type": "execute_result"
    }
   ],
   "source": [
    "y_test.shape"
   ]
  },
  {
   "cell_type": "code",
   "execution_count": 27,
   "id": "2c7e87bc-e7cd-46a4-9f52-008bb747b2d5",
   "metadata": {},
   "outputs": [],
   "source": [
    "db_test = X_test.copy()"
   ]
  },
  {
   "cell_type": "code",
   "execution_count": 28,
   "id": "f9755851-2be7-495d-8639-708dc185f03b",
   "metadata": {},
   "outputs": [],
   "source": [
    "db_test.loc[:, 'TARGET'] = y_test"
   ]
  },
  {
   "cell_type": "code",
   "execution_count": 29,
   "id": "6799c903-ec85-4267-9454-337096b835c4",
   "metadata": {},
   "outputs": [
    {
     "data": {
      "text/plain": [
       "(3926, 56)"
      ]
     },
     "execution_count": 29,
     "metadata": {},
     "output_type": "execute_result"
    }
   ],
   "source": [
    "db_test.shape"
   ]
  },
  {
   "cell_type": "markdown",
   "id": "80aa7436-c3c5-4783-b773-ebe6545a2e78",
   "metadata": {},
   "source": [
    "## Keeping only useful features"
   ]
  },
  {
   "cell_type": "code",
   "execution_count": 30,
   "id": "3a4ee025-0743-45ee-8053-468fa6b4db24",
   "metadata": {},
   "outputs": [
    {
     "name": "stdout",
     "output_type": "stream",
     "text": [
      "All categorical features 16 ['NAME_CONTRACT_TYPE', 'CODE_GENDER', 'FLAG_OWN_CAR', 'FLAG_OWN_REALTY', 'NAME_TYPE_SUITE', 'NAME_INCOME_TYPE', 'NAME_EDUCATION_TYPE', 'NAME_FAMILY_STATUS', 'NAME_HOUSING_TYPE', 'OCCUPATION_TYPE', 'WEEKDAY_APPR_PROCESS_START', 'ORGANIZATION_TYPE', 'FONDKAPREMONT_MODE', 'HOUSETYPE_MODE', 'WALLSMATERIAL_MODE', 'EMERGENCYSTATE_MODE']\n",
      "\n",
      "Filtered categorical features 11 ['NAME_INCOME_TYPE', 'CODE_GENDER', 'NAME_EDUCATION_TYPE', 'NAME_FAMILY_STATUS', 'ORGANIZATION_TYPE', 'EMERGENCYSTATE_MODE', 'FLAG_OWN_CAR', 'NAME_CONTRACT_TYPE', 'HOUSETYPE_MODE', 'OCCUPATION_TYPE', 'NAME_HOUSING_TYPE']\n"
     ]
    }
   ],
   "source": [
    "print(\"All categorical features\", len(categorical_feats), categorical_feats)\n",
    "categorical_feats_filtered = list(set(columns_feature_importance_split_score).intersection(categorical_feats))\n",
    "print(\"\\nFiltered categorical features\", len(categorical_feats_filtered), categorical_feats_filtered)"
   ]
  },
  {
   "cell_type": "code",
   "execution_count": 31,
   "id": "206838aa-72f7-4748-a5e7-a4b12a0f6d62",
   "metadata": {},
   "outputs": [
    {
     "name": "stdout",
     "output_type": "stream",
     "text": [
      "All numeric features 111 ['SK_ID_CURR', 'TARGET', 'CNT_CHILDREN', 'AMT_INCOME_TOTAL', 'AMT_CREDIT', 'AMT_ANNUITY', 'AMT_GOODS_PRICE', 'REGION_POPULATION_RELATIVE', 'DAYS_BIRTH', 'DAYS_EMPLOYED', 'DAYS_REGISTRATION', 'DAYS_ID_PUBLISH', 'OWN_CAR_AGE', 'FLAG_MOBIL', 'FLAG_EMP_PHONE', 'FLAG_WORK_PHONE', 'FLAG_CONT_MOBILE', 'FLAG_PHONE', 'FLAG_EMAIL', 'CNT_FAM_MEMBERS', 'REGION_RATING_CLIENT', 'REGION_RATING_CLIENT_W_CITY', 'HOUR_APPR_PROCESS_START', 'REG_REGION_NOT_LIVE_REGION', 'REG_REGION_NOT_WORK_REGION', 'LIVE_REGION_NOT_WORK_REGION', 'REG_CITY_NOT_LIVE_CITY', 'REG_CITY_NOT_WORK_CITY', 'LIVE_CITY_NOT_WORK_CITY', 'EXT_SOURCE_1', 'EXT_SOURCE_2', 'EXT_SOURCE_3', 'APARTMENTS_AVG', 'BASEMENTAREA_AVG', 'YEARS_BEGINEXPLUATATION_AVG', 'YEARS_BUILD_AVG', 'COMMONAREA_AVG', 'ELEVATORS_AVG', 'ENTRANCES_AVG', 'FLOORSMAX_AVG', 'FLOORSMIN_AVG', 'LANDAREA_AVG', 'LIVINGAPARTMENTS_AVG', 'LIVINGAREA_AVG', 'NONLIVINGAPARTMENTS_AVG', 'NONLIVINGAREA_AVG', 'APARTMENTS_MODE', 'BASEMENTAREA_MODE', 'YEARS_BEGINEXPLUATATION_MODE', 'YEARS_BUILD_MODE', 'COMMONAREA_MODE', 'ELEVATORS_MODE', 'ENTRANCES_MODE', 'FLOORSMAX_MODE', 'FLOORSMIN_MODE', 'LANDAREA_MODE', 'LIVINGAPARTMENTS_MODE', 'LIVINGAREA_MODE', 'NONLIVINGAPARTMENTS_MODE', 'NONLIVINGAREA_MODE', 'APARTMENTS_MEDI', 'BASEMENTAREA_MEDI', 'YEARS_BEGINEXPLUATATION_MEDI', 'YEARS_BUILD_MEDI', 'COMMONAREA_MEDI', 'ELEVATORS_MEDI', 'ENTRANCES_MEDI', 'FLOORSMAX_MEDI', 'FLOORSMIN_MEDI', 'LANDAREA_MEDI', 'LIVINGAPARTMENTS_MEDI', 'LIVINGAREA_MEDI', 'NONLIVINGAPARTMENTS_MEDI', 'NONLIVINGAREA_MEDI', 'TOTALAREA_MODE', 'OBS_30_CNT_SOCIAL_CIRCLE', 'DEF_30_CNT_SOCIAL_CIRCLE', 'OBS_60_CNT_SOCIAL_CIRCLE', 'DEF_60_CNT_SOCIAL_CIRCLE', 'DAYS_LAST_PHONE_CHANGE', 'FLAG_DOCUMENT_2', 'FLAG_DOCUMENT_3', 'FLAG_DOCUMENT_4', 'FLAG_DOCUMENT_5', 'FLAG_DOCUMENT_6', 'FLAG_DOCUMENT_7', 'FLAG_DOCUMENT_8', 'FLAG_DOCUMENT_9', 'FLAG_DOCUMENT_10', 'FLAG_DOCUMENT_11', 'FLAG_DOCUMENT_12', 'FLAG_DOCUMENT_13', 'FLAG_DOCUMENT_14', 'FLAG_DOCUMENT_15', 'FLAG_DOCUMENT_16', 'FLAG_DOCUMENT_17', 'FLAG_DOCUMENT_18', 'FLAG_DOCUMENT_19', 'FLAG_DOCUMENT_20', 'FLAG_DOCUMENT_21', 'AMT_REQ_CREDIT_BUREAU_HOUR', 'AMT_REQ_CREDIT_BUREAU_DAY', 'AMT_REQ_CREDIT_BUREAU_WEEK', 'AMT_REQ_CREDIT_BUREAU_MON', 'AMT_REQ_CREDIT_BUREAU_QRT', 'AMT_REQ_CREDIT_BUREAU_YEAR', 'CREDIT_INCOME_PERCENT', 'ANNUITY_INCOME_PERCENT', 'CREDIT_TERM', 'DAYS_EMPLOYED_PERCENT', 'YEARS_BIRTH']\n",
      "\n",
      "Filtered numeric features 40 ['DAYS_EMPLOYED', 'OWN_CAR_AGE', 'REGION_RATING_CLIENT_W_CITY', 'AMT_REQ_CREDIT_BUREAU_DAY', 'FLOORSMAX_MEDI', 'LIVINGAREA_AVG', 'FLAG_DOCUMENT_5', 'AMT_INCOME_TOTAL', 'AMT_ANNUITY', 'AMT_REQ_CREDIT_BUREAU_QRT', 'EXT_SOURCE_2', 'REG_CITY_NOT_LIVE_CITY', 'EXT_SOURCE_1', 'REG_REGION_NOT_WORK_REGION', 'CREDIT_INCOME_PERCENT', 'YEARS_BEGINEXPLUATATION_MEDI', 'FLAG_DOCUMENT_8', 'AMT_REQ_CREDIT_BUREAU_WEEK', 'CREDIT_TERM', 'DAYS_EMPLOYED_PERCENT', 'DAYS_BIRTH', 'FLAG_EMP_PHONE', 'REG_CITY_NOT_WORK_CITY', 'AMT_REQ_CREDIT_BUREAU_YEAR', 'FLAG_WORK_PHONE', 'FLAG_PHONE', 'DAYS_ID_PUBLISH', 'LIVE_CITY_NOT_WORK_CITY', 'EXT_SOURCE_3', 'DEF_60_CNT_SOCIAL_CIRCLE', 'ANNUITY_INCOME_PERCENT', 'FLAG_DOCUMENT_3', 'AMT_CREDIT', 'DEF_30_CNT_SOCIAL_CIRCLE', 'DAYS_LAST_PHONE_CHANGE', 'REGION_RATING_CLIENT', 'TOTALAREA_MODE', 'REG_REGION_NOT_LIVE_REGION', 'AMT_GOODS_PRICE', 'FLOORSMAX_AVG']\n"
     ]
    }
   ],
   "source": [
    "print(\"All numeric features\", len(numeric_feats), numeric_feats)\n",
    "numeric_feats_filtered = list(set(columns_feature_importance_split_score).intersection(numeric_feats))\n",
    "print(\"\\nFiltered numeric features\", len(numeric_feats_filtered), numeric_feats_filtered)"
   ]
  },
  {
   "cell_type": "markdown",
   "id": "4a438a28-9f79-488b-9a79-6dec0d861edd",
   "metadata": {},
   "source": [
    "## OneHot Encoding"
   ]
  },
  {
   "cell_type": "code",
   "execution_count": 32,
   "id": "20a57f1b-6e09-4b99-b8d9-c1067dc9528a",
   "metadata": {},
   "outputs": [
    {
     "data": {
      "text/html": [
       "<div>\n",
       "<style scoped>\n",
       "    .dataframe tbody tr th:only-of-type {\n",
       "        vertical-align: middle;\n",
       "    }\n",
       "\n",
       "    .dataframe tbody tr th {\n",
       "        vertical-align: top;\n",
       "    }\n",
       "\n",
       "    .dataframe thead th {\n",
       "        text-align: right;\n",
       "    }\n",
       "</style>\n",
       "<table border=\"1\" class=\"dataframe\">\n",
       "  <thead>\n",
       "    <tr style=\"text-align: right;\">\n",
       "      <th></th>\n",
       "      <th>NAME_INCOME_TYPE</th>\n",
       "      <th>CODE_GENDER</th>\n",
       "      <th>NAME_EDUCATION_TYPE</th>\n",
       "      <th>NAME_FAMILY_STATUS</th>\n",
       "      <th>ORGANIZATION_TYPE</th>\n",
       "      <th>EMERGENCYSTATE_MODE</th>\n",
       "      <th>FLAG_OWN_CAR</th>\n",
       "      <th>NAME_CONTRACT_TYPE</th>\n",
       "      <th>HOUSETYPE_MODE</th>\n",
       "      <th>OCCUPATION_TYPE</th>\n",
       "      <th>NAME_HOUSING_TYPE</th>\n",
       "    </tr>\n",
       "  </thead>\n",
       "  <tbody>\n",
       "    <tr>\n",
       "      <th>51</th>\n",
       "      <td>Commercial associate</td>\n",
       "      <td>M</td>\n",
       "      <td>Higher education</td>\n",
       "      <td>Married</td>\n",
       "      <td>Services</td>\n",
       "      <td>No</td>\n",
       "      <td>Y</td>\n",
       "      <td>Cash loans</td>\n",
       "      <td>block of flats</td>\n",
       "      <td>Managers</td>\n",
       "      <td>House / apartment</td>\n",
       "    </tr>\n",
       "    <tr>\n",
       "      <th>71</th>\n",
       "      <td>Working</td>\n",
       "      <td>M</td>\n",
       "      <td>Secondary / secondary special</td>\n",
       "      <td>Married</td>\n",
       "      <td>Business Entity Type 3</td>\n",
       "      <td>No</td>\n",
       "      <td>Y</td>\n",
       "      <td>Cash loans</td>\n",
       "      <td>block of flats</td>\n",
       "      <td>Laborers</td>\n",
       "      <td>House / apartment</td>\n",
       "    </tr>\n",
       "    <tr>\n",
       "      <th>93</th>\n",
       "      <td>Commercial associate</td>\n",
       "      <td>F</td>\n",
       "      <td>Secondary / secondary special</td>\n",
       "      <td>Married</td>\n",
       "      <td>Business Entity Type 3</td>\n",
       "      <td>No</td>\n",
       "      <td>Y</td>\n",
       "      <td>Cash loans</td>\n",
       "      <td>block of flats</td>\n",
       "      <td>Sales staff</td>\n",
       "      <td>With parents</td>\n",
       "    </tr>\n",
       "    <tr>\n",
       "      <th>124</th>\n",
       "      <td>Working</td>\n",
       "      <td>F</td>\n",
       "      <td>Secondary / secondary special</td>\n",
       "      <td>Separated</td>\n",
       "      <td>Self-employed</td>\n",
       "      <td>No</td>\n",
       "      <td>Y</td>\n",
       "      <td>Cash loans</td>\n",
       "      <td>block of flats</td>\n",
       "      <td>Laborers</td>\n",
       "      <td>House / apartment</td>\n",
       "    </tr>\n",
       "    <tr>\n",
       "      <th>152</th>\n",
       "      <td>Commercial associate</td>\n",
       "      <td>F</td>\n",
       "      <td>Higher education</td>\n",
       "      <td>Married</td>\n",
       "      <td>Trade: type 7</td>\n",
       "      <td>No</td>\n",
       "      <td>Y</td>\n",
       "      <td>Cash loans</td>\n",
       "      <td>block of flats</td>\n",
       "      <td>Managers</td>\n",
       "      <td>House / apartment</td>\n",
       "    </tr>\n",
       "    <tr>\n",
       "      <th>...</th>\n",
       "      <td>...</td>\n",
       "      <td>...</td>\n",
       "      <td>...</td>\n",
       "      <td>...</td>\n",
       "      <td>...</td>\n",
       "      <td>...</td>\n",
       "      <td>...</td>\n",
       "      <td>...</td>\n",
       "      <td>...</td>\n",
       "      <td>...</td>\n",
       "      <td>...</td>\n",
       "    </tr>\n",
       "    <tr>\n",
       "      <th>307407</th>\n",
       "      <td>Commercial associate</td>\n",
       "      <td>F</td>\n",
       "      <td>Higher education</td>\n",
       "      <td>Married</td>\n",
       "      <td>Self-employed</td>\n",
       "      <td>No</td>\n",
       "      <td>Y</td>\n",
       "      <td>Cash loans</td>\n",
       "      <td>block of flats</td>\n",
       "      <td>Sales staff</td>\n",
       "      <td>House / apartment</td>\n",
       "    </tr>\n",
       "    <tr>\n",
       "      <th>307416</th>\n",
       "      <td>Working</td>\n",
       "      <td>F</td>\n",
       "      <td>Secondary / secondary special</td>\n",
       "      <td>Single / not married</td>\n",
       "      <td>Transport: type 3</td>\n",
       "      <td>Yes</td>\n",
       "      <td>Y</td>\n",
       "      <td>Cash loans</td>\n",
       "      <td>block of flats</td>\n",
       "      <td>High skill tech staff</td>\n",
       "      <td>House / apartment</td>\n",
       "    </tr>\n",
       "    <tr>\n",
       "      <th>307449</th>\n",
       "      <td>Working</td>\n",
       "      <td>M</td>\n",
       "      <td>Incomplete higher</td>\n",
       "      <td>Married</td>\n",
       "      <td>Business Entity Type 3</td>\n",
       "      <td>No</td>\n",
       "      <td>Y</td>\n",
       "      <td>Cash loans</td>\n",
       "      <td>block of flats</td>\n",
       "      <td>Sales staff</td>\n",
       "      <td>House / apartment</td>\n",
       "    </tr>\n",
       "    <tr>\n",
       "      <th>307456</th>\n",
       "      <td>Working</td>\n",
       "      <td>F</td>\n",
       "      <td>Secondary / secondary special</td>\n",
       "      <td>Married</td>\n",
       "      <td>Business Entity Type 2</td>\n",
       "      <td>No</td>\n",
       "      <td>Y</td>\n",
       "      <td>Cash loans</td>\n",
       "      <td>block of flats</td>\n",
       "      <td>Cleaning staff</td>\n",
       "      <td>House / apartment</td>\n",
       "    </tr>\n",
       "    <tr>\n",
       "      <th>307482</th>\n",
       "      <td>Commercial associate</td>\n",
       "      <td>F</td>\n",
       "      <td>Secondary / secondary special</td>\n",
       "      <td>Married</td>\n",
       "      <td>Telecom</td>\n",
       "      <td>No</td>\n",
       "      <td>Y</td>\n",
       "      <td>Cash loans</td>\n",
       "      <td>block of flats</td>\n",
       "      <td>Managers</td>\n",
       "      <td>House / apartment</td>\n",
       "    </tr>\n",
       "  </tbody>\n",
       "</table>\n",
       "<p>15704 rows × 11 columns</p>\n",
       "</div>"
      ],
      "text/plain": [
       "            NAME_INCOME_TYPE CODE_GENDER            NAME_EDUCATION_TYPE  \\\n",
       "51      Commercial associate           M               Higher education   \n",
       "71                   Working           M  Secondary / secondary special   \n",
       "93      Commercial associate           F  Secondary / secondary special   \n",
       "124                  Working           F  Secondary / secondary special   \n",
       "152     Commercial associate           F               Higher education   \n",
       "...                      ...         ...                            ...   \n",
       "307407  Commercial associate           F               Higher education   \n",
       "307416               Working           F  Secondary / secondary special   \n",
       "307449               Working           M              Incomplete higher   \n",
       "307456               Working           F  Secondary / secondary special   \n",
       "307482  Commercial associate           F  Secondary / secondary special   \n",
       "\n",
       "          NAME_FAMILY_STATUS       ORGANIZATION_TYPE EMERGENCYSTATE_MODE  \\\n",
       "51                   Married                Services                  No   \n",
       "71                   Married  Business Entity Type 3                  No   \n",
       "93                   Married  Business Entity Type 3                  No   \n",
       "124                Separated           Self-employed                  No   \n",
       "152                  Married           Trade: type 7                  No   \n",
       "...                      ...                     ...                 ...   \n",
       "307407               Married           Self-employed                  No   \n",
       "307416  Single / not married       Transport: type 3                 Yes   \n",
       "307449               Married  Business Entity Type 3                  No   \n",
       "307456               Married  Business Entity Type 2                  No   \n",
       "307482               Married                 Telecom                  No   \n",
       "\n",
       "       FLAG_OWN_CAR NAME_CONTRACT_TYPE  HOUSETYPE_MODE        OCCUPATION_TYPE  \\\n",
       "51                Y         Cash loans  block of flats               Managers   \n",
       "71                Y         Cash loans  block of flats               Laborers   \n",
       "93                Y         Cash loans  block of flats            Sales staff   \n",
       "124               Y         Cash loans  block of flats               Laborers   \n",
       "152               Y         Cash loans  block of flats               Managers   \n",
       "...             ...                ...             ...                    ...   \n",
       "307407            Y         Cash loans  block of flats            Sales staff   \n",
       "307416            Y         Cash loans  block of flats  High skill tech staff   \n",
       "307449            Y         Cash loans  block of flats            Sales staff   \n",
       "307456            Y         Cash loans  block of flats         Cleaning staff   \n",
       "307482            Y         Cash loans  block of flats               Managers   \n",
       "\n",
       "        NAME_HOUSING_TYPE  \n",
       "51      House / apartment  \n",
       "71      House / apartment  \n",
       "93           With parents  \n",
       "124     House / apartment  \n",
       "152     House / apartment  \n",
       "...                   ...  \n",
       "307407  House / apartment  \n",
       "307416  House / apartment  \n",
       "307449  House / apartment  \n",
       "307456  House / apartment  \n",
       "307482  House / apartment  \n",
       "\n",
       "[15704 rows x 11 columns]"
      ]
     },
     "execution_count": 32,
     "metadata": {},
     "output_type": "execute_result"
    }
   ],
   "source": [
    "cat_array = data[categorical_feats_filtered]\n",
    "cat_array"
   ]
  },
  {
   "cell_type": "code",
   "execution_count": 33,
   "id": "6ca9d463-e99a-4c90-8de8-71a9db50b102",
   "metadata": {},
   "outputs": [
    {
     "name": "stdout",
     "output_type": "stream",
     "text": [
      "Features shape before one-hot encoding: \t (15704, 11)\n",
      "\n",
      "Features shape after one-hot encoding: \t\t (15704, 104)\n"
     ]
    }
   ],
   "source": [
    "from sklearn.preprocessing import OneHotEncoder\n",
    "\n",
    "print('Features shape before one-hot encoding: \\t', cat_array.shape)\n",
    "# one-hot encoding of categorical variables\n",
    "ohe = OneHotEncoder(handle_unknown='ignore')\n",
    "ohe.fit(cat_array)\n",
    "cat_array_encoded = ohe.transform(cat_array).toarray()\n",
    "print('\\nFeatures shape after one-hot encoding: \\t\\t', cat_array_encoded.shape)"
   ]
  },
  {
   "cell_type": "code",
   "execution_count": 34,
   "id": "b6941860-b0e0-4fd3-bc61-f7ee04552750",
   "metadata": {},
   "outputs": [
    {
     "data": {
      "text/plain": [
       "[array(['Businessman', 'Commercial associate', 'State servant', 'Working'],\n",
       "       dtype=object),\n",
       " array(['F', 'M'], dtype=object),\n",
       " array(['Academic degree', 'Higher education', 'Incomplete higher',\n",
       "        'Lower secondary', 'Secondary / secondary special'], dtype=object),\n",
       " array(['Civil marriage', 'Married', 'Separated', 'Single / not married',\n",
       "        'Widow'], dtype=object),\n",
       " array(['Advertising', 'Agriculture', 'Bank', 'Business Entity Type 1',\n",
       "        'Business Entity Type 2', 'Business Entity Type 3', 'Cleaning',\n",
       "        'Construction', 'Culture', 'Electricity', 'Emergency',\n",
       "        'Government', 'Hotel', 'Housing', 'Industry: type 1',\n",
       "        'Industry: type 10', 'Industry: type 11', 'Industry: type 12',\n",
       "        'Industry: type 2', 'Industry: type 3', 'Industry: type 4',\n",
       "        'Industry: type 5', 'Industry: type 6', 'Industry: type 7',\n",
       "        'Industry: type 8', 'Industry: type 9', 'Insurance',\n",
       "        'Kindergarten', 'Legal Services', 'Medicine', 'Military', 'Mobile',\n",
       "        'Other', 'Police', 'Postal', 'Realtor', 'Religion', 'Restaurant',\n",
       "        'School', 'Security', 'Security Ministries', 'Self-employed',\n",
       "        'Services', 'Telecom', 'Trade: type 1', 'Trade: type 2',\n",
       "        'Trade: type 3', 'Trade: type 4', 'Trade: type 5', 'Trade: type 6',\n",
       "        'Trade: type 7', 'Transport: type 1', 'Transport: type 2',\n",
       "        'Transport: type 3', 'Transport: type 4', 'University'],\n",
       "       dtype=object),\n",
       " array(['No', 'Yes'], dtype=object),\n",
       " array(['Y'], dtype=object),\n",
       " array(['Cash loans', 'Revolving loans'], dtype=object),\n",
       " array(['block of flats', 'specific housing', 'terraced house'],\n",
       "       dtype=object),\n",
       " array(['Accountants', 'Cleaning staff', 'Cooking staff', 'Core staff',\n",
       "        'Drivers', 'HR staff', 'High skill tech staff', 'IT staff',\n",
       "        'Laborers', 'Low-skill Laborers', 'Managers', 'Medicine staff',\n",
       "        'Private service staff', 'Realty agents', 'Sales staff',\n",
       "        'Secretaries', 'Security staff', 'Waiters/barmen staff'],\n",
       "       dtype=object),\n",
       " array(['Co-op apartment', 'House / apartment', 'Municipal apartment',\n",
       "        'Office apartment', 'Rented apartment', 'With parents'],\n",
       "       dtype=object)]"
      ]
     },
     "execution_count": 34,
     "metadata": {},
     "output_type": "execute_result"
    }
   ],
   "source": [
    "ohe.categories_"
   ]
  },
  {
   "cell_type": "code",
   "execution_count": 35,
   "id": "95009406-bb28-4be3-9998-a6e72b3de881",
   "metadata": {},
   "outputs": [
    {
     "data": {
      "text/plain": [
       "(15704, 104)"
      ]
     },
     "execution_count": 35,
     "metadata": {},
     "output_type": "execute_result"
    }
   ],
   "source": [
    "cat_array_encoded.shape"
   ]
  },
  {
   "cell_type": "markdown",
   "id": "13ceab4d-77b3-42e6-b297-fad1dbab82ec",
   "metadata": {},
   "source": [
    "## Scaling"
   ]
  },
  {
   "cell_type": "code",
   "execution_count": 36,
   "id": "9d02ca0e-b219-4518-a4f4-c5f55e616886",
   "metadata": {},
   "outputs": [
    {
     "data": {
      "text/html": [
       "<div>\n",
       "<style scoped>\n",
       "    .dataframe tbody tr th:only-of-type {\n",
       "        vertical-align: middle;\n",
       "    }\n",
       "\n",
       "    .dataframe tbody tr th {\n",
       "        vertical-align: top;\n",
       "    }\n",
       "\n",
       "    .dataframe thead th {\n",
       "        text-align: right;\n",
       "    }\n",
       "</style>\n",
       "<table border=\"1\" class=\"dataframe\">\n",
       "  <thead>\n",
       "    <tr style=\"text-align: right;\">\n",
       "      <th></th>\n",
       "      <th>DAYS_EMPLOYED</th>\n",
       "      <th>OWN_CAR_AGE</th>\n",
       "      <th>REGION_RATING_CLIENT_W_CITY</th>\n",
       "      <th>AMT_REQ_CREDIT_BUREAU_DAY</th>\n",
       "      <th>FLOORSMAX_MEDI</th>\n",
       "      <th>LIVINGAREA_AVG</th>\n",
       "      <th>FLAG_DOCUMENT_5</th>\n",
       "      <th>AMT_INCOME_TOTAL</th>\n",
       "      <th>AMT_ANNUITY</th>\n",
       "      <th>AMT_REQ_CREDIT_BUREAU_QRT</th>\n",
       "      <th>...</th>\n",
       "      <th>ANNUITY_INCOME_PERCENT</th>\n",
       "      <th>FLAG_DOCUMENT_3</th>\n",
       "      <th>AMT_CREDIT</th>\n",
       "      <th>DEF_30_CNT_SOCIAL_CIRCLE</th>\n",
       "      <th>DAYS_LAST_PHONE_CHANGE</th>\n",
       "      <th>REGION_RATING_CLIENT</th>\n",
       "      <th>TOTALAREA_MODE</th>\n",
       "      <th>REG_REGION_NOT_LIVE_REGION</th>\n",
       "      <th>AMT_GOODS_PRICE</th>\n",
       "      <th>FLOORSMAX_AVG</th>\n",
       "    </tr>\n",
       "  </thead>\n",
       "  <tbody>\n",
       "    <tr>\n",
       "      <th>51</th>\n",
       "      <td>-6977</td>\n",
       "      <td>7.0</td>\n",
       "      <td>2</td>\n",
       "      <td>0.0</td>\n",
       "      <td>0.4583</td>\n",
       "      <td>0.5878</td>\n",
       "      <td>0</td>\n",
       "      <td>540000.0</td>\n",
       "      <td>34596.0</td>\n",
       "      <td>0.0</td>\n",
       "      <td>...</td>\n",
       "      <td>0.064067</td>\n",
       "      <td>1</td>\n",
       "      <td>675000.0</td>\n",
       "      <td>0.0</td>\n",
       "      <td>-1285.0</td>\n",
       "      <td>2</td>\n",
       "      <td>0.5149</td>\n",
       "      <td>0</td>\n",
       "      <td>675000.0</td>\n",
       "      <td>0.4583</td>\n",
       "    </tr>\n",
       "    <tr>\n",
       "      <th>71</th>\n",
       "      <td>-892</td>\n",
       "      <td>22.0</td>\n",
       "      <td>2</td>\n",
       "      <td>0.0</td>\n",
       "      <td>0.3333</td>\n",
       "      <td>0.0933</td>\n",
       "      <td>0</td>\n",
       "      <td>103500.0</td>\n",
       "      <td>24435.0</td>\n",
       "      <td>0.0</td>\n",
       "      <td>...</td>\n",
       "      <td>0.236087</td>\n",
       "      <td>1</td>\n",
       "      <td>573628.5</td>\n",
       "      <td>1.0</td>\n",
       "      <td>-2053.0</td>\n",
       "      <td>2</td>\n",
       "      <td>0.1324</td>\n",
       "      <td>0</td>\n",
       "      <td>463500.0</td>\n",
       "      <td>0.3333</td>\n",
       "    </tr>\n",
       "    <tr>\n",
       "      <th>93</th>\n",
       "      <td>-1249</td>\n",
       "      <td>17.0</td>\n",
       "      <td>2</td>\n",
       "      <td>0.0</td>\n",
       "      <td>0.3333</td>\n",
       "      <td>0.2675</td>\n",
       "      <td>0</td>\n",
       "      <td>112500.0</td>\n",
       "      <td>27954.0</td>\n",
       "      <td>0.0</td>\n",
       "      <td>...</td>\n",
       "      <td>0.248480</td>\n",
       "      <td>1</td>\n",
       "      <td>862560.0</td>\n",
       "      <td>0.0</td>\n",
       "      <td>-1234.0</td>\n",
       "      <td>2</td>\n",
       "      <td>0.2576</td>\n",
       "      <td>0</td>\n",
       "      <td>720000.0</td>\n",
       "      <td>0.3333</td>\n",
       "    </tr>\n",
       "    <tr>\n",
       "      <th>124</th>\n",
       "      <td>-4375</td>\n",
       "      <td>8.0</td>\n",
       "      <td>2</td>\n",
       "      <td>0.0</td>\n",
       "      <td>0.1667</td>\n",
       "      <td>0.0903</td>\n",
       "      <td>0</td>\n",
       "      <td>202500.0</td>\n",
       "      <td>16789.5</td>\n",
       "      <td>0.0</td>\n",
       "      <td>...</td>\n",
       "      <td>0.082911</td>\n",
       "      <td>1</td>\n",
       "      <td>260725.5</td>\n",
       "      <td>0.0</td>\n",
       "      <td>-1782.0</td>\n",
       "      <td>2</td>\n",
       "      <td>0.0710</td>\n",
       "      <td>0</td>\n",
       "      <td>198000.0</td>\n",
       "      <td>0.1667</td>\n",
       "    </tr>\n",
       "    <tr>\n",
       "      <th>152</th>\n",
       "      <td>-2311</td>\n",
       "      <td>4.0</td>\n",
       "      <td>2</td>\n",
       "      <td>0.0</td>\n",
       "      <td>0.9167</td>\n",
       "      <td>0.7187</td>\n",
       "      <td>0</td>\n",
       "      <td>202500.0</td>\n",
       "      <td>53329.5</td>\n",
       "      <td>0.0</td>\n",
       "      <td>...</td>\n",
       "      <td>0.263356</td>\n",
       "      <td>0</td>\n",
       "      <td>675000.0</td>\n",
       "      <td>0.0</td>\n",
       "      <td>-1792.0</td>\n",
       "      <td>2</td>\n",
       "      <td>0.7334</td>\n",
       "      <td>0</td>\n",
       "      <td>675000.0</td>\n",
       "      <td>0.9167</td>\n",
       "    </tr>\n",
       "    <tr>\n",
       "      <th>...</th>\n",
       "      <td>...</td>\n",
       "      <td>...</td>\n",
       "      <td>...</td>\n",
       "      <td>...</td>\n",
       "      <td>...</td>\n",
       "      <td>...</td>\n",
       "      <td>...</td>\n",
       "      <td>...</td>\n",
       "      <td>...</td>\n",
       "      <td>...</td>\n",
       "      <td>...</td>\n",
       "      <td>...</td>\n",
       "      <td>...</td>\n",
       "      <td>...</td>\n",
       "      <td>...</td>\n",
       "      <td>...</td>\n",
       "      <td>...</td>\n",
       "      <td>...</td>\n",
       "      <td>...</td>\n",
       "      <td>...</td>\n",
       "      <td>...</td>\n",
       "    </tr>\n",
       "    <tr>\n",
       "      <th>307407</th>\n",
       "      <td>-1641</td>\n",
       "      <td>4.0</td>\n",
       "      <td>2</td>\n",
       "      <td>0.0</td>\n",
       "      <td>0.1667</td>\n",
       "      <td>0.0519</td>\n",
       "      <td>0</td>\n",
       "      <td>261000.0</td>\n",
       "      <td>47673.0</td>\n",
       "      <td>0.0</td>\n",
       "      <td>...</td>\n",
       "      <td>0.182655</td>\n",
       "      <td>1</td>\n",
       "      <td>711454.5</td>\n",
       "      <td>2.0</td>\n",
       "      <td>-572.0</td>\n",
       "      <td>2</td>\n",
       "      <td>0.0454</td>\n",
       "      <td>0</td>\n",
       "      <td>643500.0</td>\n",
       "      <td>0.1667</td>\n",
       "    </tr>\n",
       "    <tr>\n",
       "      <th>307416</th>\n",
       "      <td>-1056</td>\n",
       "      <td>20.0</td>\n",
       "      <td>3</td>\n",
       "      <td>0.0</td>\n",
       "      <td>0.0417</td>\n",
       "      <td>0.0125</td>\n",
       "      <td>0</td>\n",
       "      <td>90000.0</td>\n",
       "      <td>21982.5</td>\n",
       "      <td>0.0</td>\n",
       "      <td>...</td>\n",
       "      <td>0.244250</td>\n",
       "      <td>1</td>\n",
       "      <td>327024.0</td>\n",
       "      <td>2.0</td>\n",
       "      <td>-955.0</td>\n",
       "      <td>3</td>\n",
       "      <td>0.0106</td>\n",
       "      <td>0</td>\n",
       "      <td>270000.0</td>\n",
       "      <td>0.0417</td>\n",
       "    </tr>\n",
       "    <tr>\n",
       "      <th>307449</th>\n",
       "      <td>-3389</td>\n",
       "      <td>15.0</td>\n",
       "      <td>2</td>\n",
       "      <td>0.0</td>\n",
       "      <td>0.1667</td>\n",
       "      <td>0.0641</td>\n",
       "      <td>0</td>\n",
       "      <td>315000.0</td>\n",
       "      <td>38974.5</td>\n",
       "      <td>0.0</td>\n",
       "      <td>...</td>\n",
       "      <td>0.123729</td>\n",
       "      <td>0</td>\n",
       "      <td>1175314.5</td>\n",
       "      <td>1.0</td>\n",
       "      <td>0.0</td>\n",
       "      <td>2</td>\n",
       "      <td>0.0821</td>\n",
       "      <td>0</td>\n",
       "      <td>1053000.0</td>\n",
       "      <td>0.1667</td>\n",
       "    </tr>\n",
       "    <tr>\n",
       "      <th>307456</th>\n",
       "      <td>-5452</td>\n",
       "      <td>5.0</td>\n",
       "      <td>2</td>\n",
       "      <td>0.0</td>\n",
       "      <td>0.0417</td>\n",
       "      <td>0.0067</td>\n",
       "      <td>0</td>\n",
       "      <td>94500.0</td>\n",
       "      <td>15075.0</td>\n",
       "      <td>0.0</td>\n",
       "      <td>...</td>\n",
       "      <td>0.159524</td>\n",
       "      <td>1</td>\n",
       "      <td>270000.0</td>\n",
       "      <td>0.0</td>\n",
       "      <td>-2299.0</td>\n",
       "      <td>2</td>\n",
       "      <td>0.0061</td>\n",
       "      <td>0</td>\n",
       "      <td>270000.0</td>\n",
       "      <td>0.0417</td>\n",
       "    </tr>\n",
       "    <tr>\n",
       "      <th>307482</th>\n",
       "      <td>-226</td>\n",
       "      <td>11.0</td>\n",
       "      <td>2</td>\n",
       "      <td>0.0</td>\n",
       "      <td>0.1667</td>\n",
       "      <td>0.0307</td>\n",
       "      <td>0</td>\n",
       "      <td>225000.0</td>\n",
       "      <td>34969.5</td>\n",
       "      <td>0.0</td>\n",
       "      <td>...</td>\n",
       "      <td>0.155420</td>\n",
       "      <td>0</td>\n",
       "      <td>500566.5</td>\n",
       "      <td>0.0</td>\n",
       "      <td>-611.0</td>\n",
       "      <td>2</td>\n",
       "      <td>0.0272</td>\n",
       "      <td>0</td>\n",
       "      <td>472500.0</td>\n",
       "      <td>0.1667</td>\n",
       "    </tr>\n",
       "  </tbody>\n",
       "</table>\n",
       "<p>15704 rows × 40 columns</p>\n",
       "</div>"
      ],
      "text/plain": [
       "        DAYS_EMPLOYED  OWN_CAR_AGE  REGION_RATING_CLIENT_W_CITY  \\\n",
       "51              -6977          7.0                            2   \n",
       "71               -892         22.0                            2   \n",
       "93              -1249         17.0                            2   \n",
       "124             -4375          8.0                            2   \n",
       "152             -2311          4.0                            2   \n",
       "...               ...          ...                          ...   \n",
       "307407          -1641          4.0                            2   \n",
       "307416          -1056         20.0                            3   \n",
       "307449          -3389         15.0                            2   \n",
       "307456          -5452          5.0                            2   \n",
       "307482           -226         11.0                            2   \n",
       "\n",
       "        AMT_REQ_CREDIT_BUREAU_DAY  FLOORSMAX_MEDI  LIVINGAREA_AVG  \\\n",
       "51                            0.0          0.4583          0.5878   \n",
       "71                            0.0          0.3333          0.0933   \n",
       "93                            0.0          0.3333          0.2675   \n",
       "124                           0.0          0.1667          0.0903   \n",
       "152                           0.0          0.9167          0.7187   \n",
       "...                           ...             ...             ...   \n",
       "307407                        0.0          0.1667          0.0519   \n",
       "307416                        0.0          0.0417          0.0125   \n",
       "307449                        0.0          0.1667          0.0641   \n",
       "307456                        0.0          0.0417          0.0067   \n",
       "307482                        0.0          0.1667          0.0307   \n",
       "\n",
       "        FLAG_DOCUMENT_5  AMT_INCOME_TOTAL  AMT_ANNUITY  \\\n",
       "51                    0          540000.0      34596.0   \n",
       "71                    0          103500.0      24435.0   \n",
       "93                    0          112500.0      27954.0   \n",
       "124                   0          202500.0      16789.5   \n",
       "152                   0          202500.0      53329.5   \n",
       "...                 ...               ...          ...   \n",
       "307407                0          261000.0      47673.0   \n",
       "307416                0           90000.0      21982.5   \n",
       "307449                0          315000.0      38974.5   \n",
       "307456                0           94500.0      15075.0   \n",
       "307482                0          225000.0      34969.5   \n",
       "\n",
       "        AMT_REQ_CREDIT_BUREAU_QRT  ...  ANNUITY_INCOME_PERCENT  \\\n",
       "51                            0.0  ...                0.064067   \n",
       "71                            0.0  ...                0.236087   \n",
       "93                            0.0  ...                0.248480   \n",
       "124                           0.0  ...                0.082911   \n",
       "152                           0.0  ...                0.263356   \n",
       "...                           ...  ...                     ...   \n",
       "307407                        0.0  ...                0.182655   \n",
       "307416                        0.0  ...                0.244250   \n",
       "307449                        0.0  ...                0.123729   \n",
       "307456                        0.0  ...                0.159524   \n",
       "307482                        0.0  ...                0.155420   \n",
       "\n",
       "        FLAG_DOCUMENT_3  AMT_CREDIT  DEF_30_CNT_SOCIAL_CIRCLE  \\\n",
       "51                    1    675000.0                       0.0   \n",
       "71                    1    573628.5                       1.0   \n",
       "93                    1    862560.0                       0.0   \n",
       "124                   1    260725.5                       0.0   \n",
       "152                   0    675000.0                       0.0   \n",
       "...                 ...         ...                       ...   \n",
       "307407                1    711454.5                       2.0   \n",
       "307416                1    327024.0                       2.0   \n",
       "307449                0   1175314.5                       1.0   \n",
       "307456                1    270000.0                       0.0   \n",
       "307482                0    500566.5                       0.0   \n",
       "\n",
       "        DAYS_LAST_PHONE_CHANGE  REGION_RATING_CLIENT  TOTALAREA_MODE  \\\n",
       "51                     -1285.0                     2          0.5149   \n",
       "71                     -2053.0                     2          0.1324   \n",
       "93                     -1234.0                     2          0.2576   \n",
       "124                    -1782.0                     2          0.0710   \n",
       "152                    -1792.0                     2          0.7334   \n",
       "...                        ...                   ...             ...   \n",
       "307407                  -572.0                     2          0.0454   \n",
       "307416                  -955.0                     3          0.0106   \n",
       "307449                     0.0                     2          0.0821   \n",
       "307456                 -2299.0                     2          0.0061   \n",
       "307482                  -611.0                     2          0.0272   \n",
       "\n",
       "        REG_REGION_NOT_LIVE_REGION  AMT_GOODS_PRICE  FLOORSMAX_AVG  \n",
       "51                               0         675000.0         0.4583  \n",
       "71                               0         463500.0         0.3333  \n",
       "93                               0         720000.0         0.3333  \n",
       "124                              0         198000.0         0.1667  \n",
       "152                              0         675000.0         0.9167  \n",
       "...                            ...              ...            ...  \n",
       "307407                           0         643500.0         0.1667  \n",
       "307416                           0         270000.0         0.0417  \n",
       "307449                           0        1053000.0         0.1667  \n",
       "307456                           0         270000.0         0.0417  \n",
       "307482                           0         472500.0         0.1667  \n",
       "\n",
       "[15704 rows x 40 columns]"
      ]
     },
     "execution_count": 36,
     "metadata": {},
     "output_type": "execute_result"
    }
   ],
   "source": [
    "num_array = data[numeric_feats_filtered]\n",
    "num_array"
   ]
  },
  {
   "cell_type": "code",
   "execution_count": 37,
   "id": "2349b88c-c945-44f4-b8d9-738d3706143c",
   "metadata": {},
   "outputs": [
    {
     "name": "stdout",
     "output_type": "stream",
     "text": [
      "Features shape before imputing/scaling: \t (15704, 40)\n",
      "\n",
      "Features shape after imputing/scaling: \t\t (15704, 40)\n"
     ]
    }
   ],
   "source": [
    "from sklearn.preprocessing import MinMaxScaler\n",
    "\n",
    "print('Features shape before imputing/scaling: \\t', num_array.shape)\n",
    "# Scale each feature to 0-1\n",
    "scaler = MinMaxScaler(feature_range = (0, 1))\n",
    "\n",
    "# Fit on the training data\n",
    "scaler.fit(num_array)\n",
    "# Scale\n",
    "num_array = scaler.transform(num_array)\n",
    "print('\\nFeatures shape after imputing/scaling: \\t\\t', num_array.shape)"
   ]
  },
  {
   "cell_type": "markdown",
   "id": "a1b0649e-da56-4318-9bfc-171953ee6186",
   "metadata": {},
   "source": [
    "# Model"
   ]
  },
  {
   "cell_type": "markdown",
   "id": "585f0151-f6b7-4d1b-97d9-cca36e0d1f88",
   "metadata": {},
   "source": [
    "https://pydantic-docs.helpmanual.io/usage/models/#model-creation-from-namedtuple-or-typeddict"
   ]
  },
  {
   "cell_type": "code",
   "execution_count": 38,
   "id": "6c67708f-26ca-4066-a1db-1835baf39b71",
   "metadata": {},
   "outputs": [],
   "source": [
    "X = np.concatenate([cat_array_encoded, num_array], axis=1)\n",
    "X = np.asarray(X)\n",
    "y = data[\"TARGET\"].astype(int)"
   ]
  },
  {
   "cell_type": "code",
   "execution_count": 39,
   "id": "7169ad03-2c0c-4832-8b43-d6c9aa89fb74",
   "metadata": {},
   "outputs": [
    {
     "data": {
      "text/plain": [
       "(15704, 144)"
      ]
     },
     "execution_count": 39,
     "metadata": {},
     "output_type": "execute_result"
    }
   ],
   "source": [
    "X.shape"
   ]
  },
  {
   "cell_type": "code",
   "execution_count": 40,
   "id": "27be4582-e6d7-4e2f-86c7-42bfd7b99afd",
   "metadata": {},
   "outputs": [
    {
     "data": {
      "text/html": [
       "<style>#sk-container-id-1 {color: black;background-color: white;}#sk-container-id-1 pre{padding: 0;}#sk-container-id-1 div.sk-toggleable {background-color: white;}#sk-container-id-1 label.sk-toggleable__label {cursor: pointer;display: block;width: 100%;margin-bottom: 0;padding: 0.3em;box-sizing: border-box;text-align: center;}#sk-container-id-1 label.sk-toggleable__label-arrow:before {content: \"▸\";float: left;margin-right: 0.25em;color: #696969;}#sk-container-id-1 label.sk-toggleable__label-arrow:hover:before {color: black;}#sk-container-id-1 div.sk-estimator:hover label.sk-toggleable__label-arrow:before {color: black;}#sk-container-id-1 div.sk-toggleable__content {max-height: 0;max-width: 0;overflow: hidden;text-align: left;background-color: #f0f8ff;}#sk-container-id-1 div.sk-toggleable__content pre {margin: 0.2em;color: black;border-radius: 0.25em;background-color: #f0f8ff;}#sk-container-id-1 input.sk-toggleable__control:checked~div.sk-toggleable__content {max-height: 200px;max-width: 100%;overflow: auto;}#sk-container-id-1 input.sk-toggleable__control:checked~label.sk-toggleable__label-arrow:before {content: \"▾\";}#sk-container-id-1 div.sk-estimator input.sk-toggleable__control:checked~label.sk-toggleable__label {background-color: #d4ebff;}#sk-container-id-1 div.sk-label input.sk-toggleable__control:checked~label.sk-toggleable__label {background-color: #d4ebff;}#sk-container-id-1 input.sk-hidden--visually {border: 0;clip: rect(1px 1px 1px 1px);clip: rect(1px, 1px, 1px, 1px);height: 1px;margin: -1px;overflow: hidden;padding: 0;position: absolute;width: 1px;}#sk-container-id-1 div.sk-estimator {font-family: monospace;background-color: #f0f8ff;border: 1px dotted black;border-radius: 0.25em;box-sizing: border-box;margin-bottom: 0.5em;}#sk-container-id-1 div.sk-estimator:hover {background-color: #d4ebff;}#sk-container-id-1 div.sk-parallel-item::after {content: \"\";width: 100%;border-bottom: 1px solid gray;flex-grow: 1;}#sk-container-id-1 div.sk-label:hover label.sk-toggleable__label {background-color: #d4ebff;}#sk-container-id-1 div.sk-serial::before {content: \"\";position: absolute;border-left: 1px solid gray;box-sizing: border-box;top: 0;bottom: 0;left: 50%;z-index: 0;}#sk-container-id-1 div.sk-serial {display: flex;flex-direction: column;align-items: center;background-color: white;padding-right: 0.2em;padding-left: 0.2em;position: relative;}#sk-container-id-1 div.sk-item {position: relative;z-index: 1;}#sk-container-id-1 div.sk-parallel {display: flex;align-items: stretch;justify-content: center;background-color: white;position: relative;}#sk-container-id-1 div.sk-item::before, #sk-container-id-1 div.sk-parallel-item::before {content: \"\";position: absolute;border-left: 1px solid gray;box-sizing: border-box;top: 0;bottom: 0;left: 50%;z-index: -1;}#sk-container-id-1 div.sk-parallel-item {display: flex;flex-direction: column;z-index: 1;position: relative;background-color: white;}#sk-container-id-1 div.sk-parallel-item:first-child::after {align-self: flex-end;width: 50%;}#sk-container-id-1 div.sk-parallel-item:last-child::after {align-self: flex-start;width: 50%;}#sk-container-id-1 div.sk-parallel-item:only-child::after {width: 0;}#sk-container-id-1 div.sk-dashed-wrapped {border: 1px dashed gray;margin: 0 0.4em 0.5em 0.4em;box-sizing: border-box;padding-bottom: 0.4em;background-color: white;}#sk-container-id-1 div.sk-label label {font-family: monospace;font-weight: bold;display: inline-block;line-height: 1.2em;}#sk-container-id-1 div.sk-label-container {text-align: center;}#sk-container-id-1 div.sk-container {/* jupyter's `normalize.less` sets `[hidden] { display: none; }` but bootstrap.min.css set `[hidden] { display: none !important; }` so we also need the `!important` here to be able to override the default hidden behavior on the sphinx rendered scikit-learn.org. See: https://github.com/scikit-learn/scikit-learn/issues/21755 */display: inline-block !important;position: relative;}#sk-container-id-1 div.sk-text-repr-fallback {display: none;}</style><div id=\"sk-container-id-1\" class=\"sk-top-container\"><div class=\"sk-text-repr-fallback\"><pre>LGBMClassifier(class_weight=&#x27;balanced&#x27;, learning_rate=0.07, max_depth=3,\n",
       "               n_estimators=500, reg_alpha=0.1,\n",
       "               reg_lambda=0.0005623413251903491)</pre><b>In a Jupyter environment, please rerun this cell to show the HTML representation or trust the notebook. <br />On GitHub, the HTML representation is unable to render, please try loading this page with nbviewer.org.</b></div><div class=\"sk-container\" hidden><div class=\"sk-item\"><div class=\"sk-estimator sk-toggleable\"><input class=\"sk-toggleable__control sk-hidden--visually\" id=\"sk-estimator-id-1\" type=\"checkbox\" checked><label for=\"sk-estimator-id-1\" class=\"sk-toggleable__label sk-toggleable__label-arrow\">LGBMClassifier</label><div class=\"sk-toggleable__content\"><pre>LGBMClassifier(class_weight=&#x27;balanced&#x27;, learning_rate=0.07, max_depth=3,\n",
       "               n_estimators=500, reg_alpha=0.1,\n",
       "               reg_lambda=0.0005623413251903491)</pre></div></div></div></div></div>"
      ],
      "text/plain": [
       "LGBMClassifier(class_weight='balanced', learning_rate=0.07, max_depth=3,\n",
       "               n_estimators=500, reg_alpha=0.1,\n",
       "               reg_lambda=0.0005623413251903491)"
      ]
     },
     "execution_count": 40,
     "metadata": {},
     "output_type": "execute_result"
    }
   ],
   "source": [
    "# Best model\n",
    "# Préparation du dictionnaire contenant les meilleurs paramètres :\n",
    "# V1 {'class_weight': 'balanced', 'learning_rate': 0.07, 'max_depth': 3, 'n_estimators': 500, 'reg_alpha': 0.1, 'reg_lambda': 0.0005623413251903491} \n",
    "# V2 {'boosting_type': 'gbdt', 'class_weight': 'balanced', 'learning_rate': 0.07, 'max_depth': 3, 'min_child_samples': 20, 'min_child_weight': 0.001, 'min_split_gain': 0.0, 'n_estimators': 500, 'num_leaves': 31, 'reg_alpha': 0.1, 'reg_lambda': 0.0005623413251903491}\n",
    "lgb_c = lgb.LGBMClassifier(boosting_type='gbdt', class_weight='balanced', learning_rate=0.07, max_depth=3, min_child_samples=20, min_child_weight=0.001, min_split_gain=0.0, n_estimators=500, num_leaves=31, reg_alpha=0.1, reg_lambda=0.0005623413251903491)\n",
    "lgb_c.fit(X, y)"
   ]
  },
  {
   "cell_type": "markdown",
   "id": "6ab333b3-0649-402c-a36f-3821c6820bbc",
   "metadata": {},
   "source": [
    "## SHAP"
   ]
  },
  {
   "cell_type": "code",
   "execution_count": 41,
   "id": "f1efcaf7-8b2f-4c1b-b3d1-4d67532ed5f9",
   "metadata": {},
   "outputs": [],
   "source": [
    "df_cat = pd.DataFrame(data=cat_array_encoded, columns=ohe.get_feature_names())"
   ]
  },
  {
   "cell_type": "code",
   "execution_count": 42,
   "id": "9393efa8-90ca-4c53-b6e4-ad85726300e1",
   "metadata": {},
   "outputs": [],
   "source": [
    "df_num = pd.DataFrame(data=num_array, columns=numeric_feats_filtered)"
   ]
  },
  {
   "cell_type": "code",
   "execution_count": 43,
   "id": "227ef62f-e829-4587-adba-c3c3b0ffd5a3",
   "metadata": {},
   "outputs": [],
   "source": [
    "# concatenating df_cat and df_num along columns\n",
    "df_all = pd.concat([df_cat, df_num], axis=1)"
   ]
  },
  {
   "cell_type": "code",
   "execution_count": 44,
   "id": "d055aaa5-9be0-4f95-aa3d-a8704c471fc1",
   "metadata": {},
   "outputs": [
    {
     "data": {
      "text/plain": [
       "(15704, 144)"
      ]
     },
     "execution_count": 44,
     "metadata": {},
     "output_type": "execute_result"
    }
   ],
   "source": [
    "df_all.shape"
   ]
  },
  {
   "cell_type": "code",
   "execution_count": 45,
   "id": "b0bc763f-7bc7-49e2-afca-8501851eba14",
   "metadata": {},
   "outputs": [],
   "source": [
    "import shap\n",
    "\n",
    "# shap.plots.initjs()\n",
    "\n",
    "# Calcul des SHAP values\n",
    "explainer = shap.TreeExplainer(lgb_c)\n",
    "shap_values = explainer.shap_values(df_all)[1]\n",
    "exp_value = explainer.expected_value[1]"
   ]
  },
  {
   "cell_type": "markdown",
   "id": "5151404b-2758-4c5f-a4d5-2a4c67bc024a",
   "metadata": {},
   "source": [
    "# Persistence pour utilisation dans l'API et le Dashboard"
   ]
  },
  {
   "cell_type": "markdown",
   "id": "e545f1cf-9137-49f6-8031-82864510e026",
   "metadata": {},
   "source": [
    "https://joblib.readthedocs.io/en/latest/persistence.html"
   ]
  },
  {
   "cell_type": "markdown",
   "id": "29238e9c-9997-492b-86e8-636663beb44f",
   "metadata": {},
   "source": [
    "## API / Dashboard"
   ]
  },
  {
   "cell_type": "markdown",
   "id": "a21d99f1-9f22-46a1-8cfc-e47aafb9de4a",
   "metadata": {},
   "source": [
    "Données clients"
   ]
  },
  {
   "cell_type": "code",
   "execution_count": 46,
   "id": "cbcbf3b0-817d-45db-bf1b-f1333462f655",
   "metadata": {},
   "outputs": [],
   "source": [
    "compression_opts = dict(method='zip',\n",
    "                        archive_name='data.csv')\n",
    "\n",
    "db_test.to_csv('bin/data.zip', index=False, compression=compression_opts)  "
   ]
  },
  {
   "cell_type": "markdown",
   "id": "ae847c0d-283a-4635-8140-4f5e9e14408e",
   "metadata": {},
   "source": [
    "Colonnes pour la prédiction avec le model"
   ]
  },
  {
   "cell_type": "code",
   "execution_count": 47,
   "id": "f6847030-4fca-4d12-8327-dae383d62c69",
   "metadata": {},
   "outputs": [],
   "source": [
    "file = open('bin/features_for_model_prediction.txt','w')\n",
    "for feature in columns_feature_importance_split_score:\n",
    "    file.writelines(feature+'\\n')\n",
    "file.close()"
   ]
  },
  {
   "cell_type": "markdown",
   "id": "abfddc9c-f09c-4c2d-9d76-f311f4ee200d",
   "metadata": {},
   "source": [
    "Colonnes pour la table principale du dashboard"
   ]
  },
  {
   "cell_type": "code",
   "execution_count": 48,
   "id": "c099611c-2a37-4534-bf90-f7138d439cb3",
   "metadata": {},
   "outputs": [],
   "source": [
    "file = open('bin/features_for_dashboard_table.txt','w')\n",
    "for feature in columns_feature_displayable:\n",
    "    file.writelines(feature+'\\n')\n",
    "file.close()"
   ]
  },
  {
   "cell_type": "markdown",
   "id": "19fc5e97-885b-4883-a934-43271658d632",
   "metadata": {},
   "source": [
    "Sérialisation des objets nécessaires à l'API"
   ]
  },
  {
   "cell_type": "code",
   "execution_count": 49,
   "id": "78514f82-3383-44aa-af6a-e1688f1e07e2",
   "metadata": {},
   "outputs": [
    {
     "data": {
      "text/plain": [
       "['bin/model.joblib']"
      ]
     },
     "execution_count": 49,
     "metadata": {},
     "output_type": "execute_result"
    }
   ],
   "source": [
    "if not os.path.exists('bin'):\n",
    "    os.makedirs('bin')\n",
    "    \n",
    "joblib.dump(ohe, 'bin/ohe.joblib')\n",
    "joblib.dump(scaler, 'bin/std_scaler.joblib')\n",
    "joblib.dump(lgb_c, 'bin/model.joblib')"
   ]
  },
  {
   "cell_type": "markdown",
   "id": "59e89aff-1d44-409a-8fc6-4c03c2f0ba49",
   "metadata": {},
   "source": [
    "Sérialisation de la modélisation d'un Client pour la méthode de prédiction de l'API de prédiction"
   ]
  },
  {
   "cell_type": "code",
   "execution_count": 50,
   "id": "d5eca108-fc61-4e0c-a1f9-990142234f31",
   "metadata": {},
   "outputs": [
    {
     "name": "stdout",
     "output_type": "stream",
     "text": [
      "{'NAME_INCOME_TYPE': (<class 'str'>, FieldInfo(default=Ellipsis, extra={})), 'CODE_GENDER': (<class 'str'>, FieldInfo(default=Ellipsis, extra={})), 'NAME_EDUCATION_TYPE': (<class 'str'>, FieldInfo(default=Ellipsis, extra={})), 'NAME_FAMILY_STATUS': (<class 'str'>, FieldInfo(default=Ellipsis, extra={})), 'ORGANIZATION_TYPE': (<class 'str'>, FieldInfo(default=Ellipsis, extra={})), 'EMERGENCYSTATE_MODE': (<class 'str'>, FieldInfo(default=Ellipsis, extra={})), 'FLAG_OWN_CAR': (<class 'str'>, FieldInfo(default=Ellipsis, extra={})), 'NAME_CONTRACT_TYPE': (<class 'str'>, FieldInfo(default=Ellipsis, extra={})), 'HOUSETYPE_MODE': (<class 'str'>, FieldInfo(default=Ellipsis, extra={})), 'OCCUPATION_TYPE': (<class 'str'>, FieldInfo(default=Ellipsis, extra={})), 'NAME_HOUSING_TYPE': (<class 'str'>, FieldInfo(default=Ellipsis, extra={})), 'DAYS_EMPLOYED': (<class 'int'>, FieldInfo(default=Ellipsis, extra={})), 'OWN_CAR_AGE': (<class 'float'>, FieldInfo(default=Ellipsis, extra={})), 'REGION_RATING_CLIENT_W_CITY': (<class 'int'>, FieldInfo(default=Ellipsis, extra={})), 'AMT_REQ_CREDIT_BUREAU_DAY': (<class 'float'>, FieldInfo(default=Ellipsis, extra={})), 'FLOORSMAX_MEDI': (<class 'float'>, FieldInfo(default=Ellipsis, extra={})), 'LIVINGAREA_AVG': (<class 'float'>, FieldInfo(default=Ellipsis, extra={})), 'FLAG_DOCUMENT_5': (<class 'int'>, FieldInfo(default=Ellipsis, extra={})), 'AMT_INCOME_TOTAL': (<class 'float'>, FieldInfo(default=Ellipsis, extra={})), 'AMT_ANNUITY': (<class 'float'>, FieldInfo(default=Ellipsis, extra={})), 'AMT_REQ_CREDIT_BUREAU_QRT': (<class 'float'>, FieldInfo(default=Ellipsis, extra={})), 'EXT_SOURCE_2': (<class 'float'>, FieldInfo(default=Ellipsis, extra={})), 'REG_CITY_NOT_LIVE_CITY': (<class 'int'>, FieldInfo(default=Ellipsis, extra={})), 'EXT_SOURCE_1': (<class 'float'>, FieldInfo(default=Ellipsis, extra={})), 'REG_REGION_NOT_WORK_REGION': (<class 'int'>, FieldInfo(default=Ellipsis, extra={})), 'CREDIT_INCOME_PERCENT': (<class 'float'>, FieldInfo(default=Ellipsis, extra={})), 'YEARS_BEGINEXPLUATATION_MEDI': (<class 'float'>, FieldInfo(default=Ellipsis, extra={})), 'FLAG_DOCUMENT_8': (<class 'int'>, FieldInfo(default=Ellipsis, extra={})), 'AMT_REQ_CREDIT_BUREAU_WEEK': (<class 'float'>, FieldInfo(default=Ellipsis, extra={})), 'CREDIT_TERM': (<class 'float'>, FieldInfo(default=Ellipsis, extra={})), 'DAYS_EMPLOYED_PERCENT': (<class 'float'>, FieldInfo(default=Ellipsis, extra={})), 'DAYS_BIRTH': (<class 'int'>, FieldInfo(default=Ellipsis, extra={})), 'FLAG_EMP_PHONE': (<class 'int'>, FieldInfo(default=Ellipsis, extra={})), 'REG_CITY_NOT_WORK_CITY': (<class 'int'>, FieldInfo(default=Ellipsis, extra={})), 'AMT_REQ_CREDIT_BUREAU_YEAR': (<class 'float'>, FieldInfo(default=Ellipsis, extra={})), 'FLAG_WORK_PHONE': (<class 'int'>, FieldInfo(default=Ellipsis, extra={})), 'FLAG_PHONE': (<class 'int'>, FieldInfo(default=Ellipsis, extra={})), 'DAYS_ID_PUBLISH': (<class 'int'>, FieldInfo(default=Ellipsis, extra={})), 'LIVE_CITY_NOT_WORK_CITY': (<class 'int'>, FieldInfo(default=Ellipsis, extra={})), 'EXT_SOURCE_3': (<class 'float'>, FieldInfo(default=Ellipsis, extra={})), 'DEF_60_CNT_SOCIAL_CIRCLE': (<class 'float'>, FieldInfo(default=Ellipsis, extra={})), 'ANNUITY_INCOME_PERCENT': (<class 'float'>, FieldInfo(default=Ellipsis, extra={})), 'FLAG_DOCUMENT_3': (<class 'int'>, FieldInfo(default=Ellipsis, extra={})), 'AMT_CREDIT': (<class 'float'>, FieldInfo(default=Ellipsis, extra={})), 'DEF_30_CNT_SOCIAL_CIRCLE': (<class 'float'>, FieldInfo(default=Ellipsis, extra={})), 'DAYS_LAST_PHONE_CHANGE': (<class 'float'>, FieldInfo(default=Ellipsis, extra={})), 'REGION_RATING_CLIENT': (<class 'int'>, FieldInfo(default=Ellipsis, extra={})), 'TOTALAREA_MODE': (<class 'float'>, FieldInfo(default=Ellipsis, extra={})), 'REG_REGION_NOT_LIVE_REGION': (<class 'int'>, FieldInfo(default=Ellipsis, extra={})), 'AMT_GOODS_PRICE': (<class 'float'>, FieldInfo(default=Ellipsis, extra={})), 'FLOORSMAX_AVG': (<class 'float'>, FieldInfo(default=Ellipsis, extra={}))}\n"
     ]
    }
   ],
   "source": [
    "db_test_joblib = db_test[categorical_feats_filtered + numeric_feats_filtered]\n",
    "db_test_joblib = db_test_joblib.astype(object)\n",
    "\n",
    "data_model = {}\n",
    "for column_name in db_test_joblib.columns:\n",
    "    # print(column_name, column_dtype)\n",
    "    data_model.update({column_name: (type(db_test_joblib.loc[0, column_name]), Field(...))})\n",
    "    \n",
    "print(data_model)"
   ]
  },
  {
   "cell_type": "code",
   "execution_count": 51,
   "id": "fd5f36d3-77ef-4f75-8be7-bec27a055a9a",
   "metadata": {},
   "outputs": [
    {
     "data": {
      "text/plain": [
       "['bin/data_dict.joblib']"
      ]
     },
     "execution_count": 51,
     "metadata": {},
     "output_type": "execute_result"
    }
   ],
   "source": [
    "joblib.dump(data_model, 'bin/data_dict.joblib')"
   ]
  },
  {
   "cell_type": "markdown",
   "id": "fda3d111-5c23-4af4-8fe0-1f109e491bcc",
   "metadata": {},
   "source": [
    "SHAP values"
   ]
  },
  {
   "cell_type": "code",
   "execution_count": 52,
   "id": "486ac7f0-7333-4a54-b7a2-0e4295d70d99",
   "metadata": {},
   "outputs": [],
   "source": [
    "# np.savetxt('bin/shap_shap_values.txt', shap_values, fmt=\"%f\")"
   ]
  },
  {
   "cell_type": "code",
   "execution_count": 53,
   "id": "e1232281-2369-41ad-a340-b63e3881fa44",
   "metadata": {},
   "outputs": [],
   "source": [
    "# better saving with compression\n",
    "np.savez_compressed(\"bin/shap_shap_values.npz\", shap_values=shap_values)"
   ]
  },
  {
   "cell_type": "code",
   "execution_count": 54,
   "id": "2886d3c7-52c8-4e95-936a-ca48ec24338a",
   "metadata": {},
   "outputs": [],
   "source": [
    "file = open('bin/shap_expected_value.txt','w')\n",
    "file.writelines(str(exp_value)+'\\n')\n",
    "file.close()"
   ]
  },
  {
   "cell_type": "code",
   "execution_count": 55,
   "id": "b3ebdd0d-6c8b-4bd0-96f0-07f8efc75107",
   "metadata": {},
   "outputs": [],
   "source": [
    "best_treshold = 0.5040000000000002\n",
    "\n",
    "file = open('bin/model_best_treshold.txt','w')\n",
    "file.writelines(str(best_treshold)+'\\n')\n",
    "file.close()"
   ]
  },
  {
   "cell_type": "markdown",
   "id": "bf28489e-519f-4d17-ab08-2aa1aebb23b5",
   "metadata": {},
   "source": [
    "## Pour tests"
   ]
  },
  {
   "cell_type": "code",
   "execution_count": 56,
   "id": "e2c3d229-4644-41ac-b56f-8ef061f35e0d",
   "metadata": {},
   "outputs": [
    {
     "data": {
      "text/plain": [
       "NAME_INCOME_TYPE                         Commercial associate\n",
       "CODE_GENDER                                                 M\n",
       "NAME_EDUCATION_TYPE             Secondary / secondary special\n",
       "NAME_FAMILY_STATUS                                    Married\n",
       "ORGANIZATION_TYPE                      Business Entity Type 3\n",
       "EMERGENCYSTATE_MODE                                        No\n",
       "FLAG_OWN_CAR                                                Y\n",
       "NAME_CONTRACT_TYPE                            Revolving loans\n",
       "HOUSETYPE_MODE                                 block of flats\n",
       "OCCUPATION_TYPE                                      Laborers\n",
       "NAME_HOUSING_TYPE                           House / apartment\n",
       "DAYS_EMPLOYED                                           -5215\n",
       "OWN_CAR_AGE                                              26.0\n",
       "REGION_RATING_CLIENT_W_CITY                                 1\n",
       "AMT_REQ_CREDIT_BUREAU_DAY                                 0.0\n",
       "FLOORSMAX_MEDI                                         0.3958\n",
       "LIVINGAREA_AVG                                         0.1798\n",
       "FLAG_DOCUMENT_5                                             0\n",
       "AMT_INCOME_TOTAL                                     112500.0\n",
       "AMT_ANNUITY                                           11250.0\n",
       "AMT_REQ_CREDIT_BUREAU_QRT                                 0.0\n",
       "EXT_SOURCE_2                                         0.713086\n",
       "REG_CITY_NOT_LIVE_CITY                                      0\n",
       "EXT_SOURCE_1                                         0.418552\n",
       "REG_REGION_NOT_WORK_REGION                                  0\n",
       "CREDIT_INCOME_PERCENT                                     2.0\n",
       "YEARS_BEGINEXPLUATATION_MEDI                           0.9786\n",
       "FLAG_DOCUMENT_8                                             0\n",
       "AMT_REQ_CREDIT_BUREAU_WEEK                                0.0\n",
       "CREDIT_TERM                                              0.05\n",
       "DAYS_EMPLOYED_PERCENT                                0.353703\n",
       "DAYS_BIRTH                                             -14744\n",
       "FLAG_EMP_PHONE                                              1\n",
       "REG_CITY_NOT_WORK_CITY                                      0\n",
       "AMT_REQ_CREDIT_BUREAU_YEAR                                2.0\n",
       "FLAG_WORK_PHONE                                             0\n",
       "FLAG_PHONE                                                  1\n",
       "DAYS_ID_PUBLISH                                         -5472\n",
       "LIVE_CITY_NOT_WORK_CITY                                     0\n",
       "EXT_SOURCE_3                                         0.404878\n",
       "DEF_60_CNT_SOCIAL_CIRCLE                                  0.0\n",
       "ANNUITY_INCOME_PERCENT                                    0.1\n",
       "FLAG_DOCUMENT_3                                             0\n",
       "AMT_CREDIT                                           225000.0\n",
       "DEF_30_CNT_SOCIAL_CIRCLE                                  0.0\n",
       "DAYS_LAST_PHONE_CHANGE                                -1725.0\n",
       "REGION_RATING_CLIENT                                        1\n",
       "TOTALAREA_MODE                                         0.2066\n",
       "REG_REGION_NOT_LIVE_REGION                                  0\n",
       "AMT_GOODS_PRICE                                      225000.0\n",
       "FLOORSMAX_AVG                                          0.3958\n",
       "Name: 0, dtype: object"
      ]
     },
     "execution_count": 56,
     "metadata": {},
     "output_type": "execute_result"
    }
   ],
   "source": [
    "db_test[categorical_feats_filtered + numeric_feats_filtered].loc[0,:]"
   ]
  },
  {
   "cell_type": "code",
   "execution_count": 57,
   "id": "7d33a1f2-1ef5-4a6f-8997-2f0b5b238c53",
   "metadata": {},
   "outputs": [],
   "source": [
    "if not os.path.exists('json'):\n",
    "    os.makedirs('json')\n",
    "    \n",
    "for i in range(0, 10):\n",
    "    db_test[categorical_feats_filtered + numeric_feats_filtered].loc[i].to_json(\"json/row{}.json\".format(i))"
   ]
  },
  {
   "cell_type": "code",
   "execution_count": 58,
   "id": "2e70c6f8-9899-43d2-84fa-4a6b660cacb1",
   "metadata": {},
   "outputs": [
    {
     "name": "stdout",
     "output_type": "stream",
     "text": [
      "TARGET    0\n",
      "Name: 0, dtype: int64\n",
      "TARGET    0\n",
      "Name: 1, dtype: int64\n",
      "TARGET    1\n",
      "Name: 2, dtype: int64\n",
      "TARGET    0\n",
      "Name: 3, dtype: int64\n",
      "TARGET    0\n",
      "Name: 4, dtype: int64\n",
      "TARGET    0\n",
      "Name: 5, dtype: int64\n",
      "TARGET    0\n",
      "Name: 6, dtype: int64\n",
      "TARGET    0\n",
      "Name: 7, dtype: int64\n",
      "TARGET    0\n",
      "Name: 8, dtype: int64\n",
      "TARGET    0\n",
      "Name: 9, dtype: int64\n"
     ]
    }
   ],
   "source": [
    "for i in range(0, 10):\n",
    "    print(y_test.loc[i])"
   ]
  },
  {
   "cell_type": "code",
   "execution_count": 59,
   "id": "38b9e0c6-9849-492d-a421-575e5e80ab75",
   "metadata": {},
   "outputs": [
    {
     "data": {
      "text/plain": [
       "'{\"NAME_INCOME_TYPE\": \"Working\", \"CODE_GENDER\": \"F\", \"NAME_EDUCATION_TYPE\": \"Secondary / secondary special\", \"NAME_FAMILY_STATUS\": \"Married\", \"ORGANIZATION_TYPE\": \"Self-employed\", \"EMERGENCYSTATE_MODE\": \"No\", \"FLAG_OWN_CAR\": \"Y\", \"NAME_CONTRACT_TYPE\": \"Cash loans\", \"HOUSETYPE_MODE\": \"block of flats\", \"OCCUPATION_TYPE\": \"Managers\", \"NAME_HOUSING_TYPE\": \"House / apartment\", \"DAYS_EMPLOYED\": -1550, \"OWN_CAR_AGE\": 23.0, \"REGION_RATING_CLIENT_W_CITY\": 3, \"AMT_REQ_CREDIT_BUREAU_DAY\": 0.0, \"FLOORSMAX_MEDI\": 0.3333, \"LIVINGAREA_AVG\": 0.2, \"FLAG_DOCUMENT_5\": 0, \"AMT_INCOME_TOTAL\": 270000.0, \"AMT_ANNUITY\": 62995.5, \"AMT_REQ_CREDIT_BUREAU_QRT\": 0.0, \"EXT_SOURCE_2\": 0.4260776081313265, \"REG_CITY_NOT_LIVE_CITY\": 0, \"EXT_SOURCE_1\": 0.5284375340835995, \"REG_REGION_NOT_WORK_REGION\": 0, \"CREDIT_INCOME_PERCENT\": 5.642066666666667, \"YEARS_BEGINEXPLUATATION_MEDI\": 0.9806, \"FLAG_DOCUMENT_8\": 0, \"AMT_REQ_CREDIT_BUREAU_WEEK\": 0.0, \"CREDIT_TERM\": 0.04135305030071723, \"DAYS_EMPLOYED_PERCENT\": 0.10822510822510822, \"DAYS_BIRTH\": -14322, \"FLAG_EMP_PHONE\": 1, \"REG_CITY_NOT_WORK_CITY\": 1, \"AMT_REQ_CREDIT_BUREAU_YEAR\": 0.0, \"FLAG_WORK_PHONE\": 0, \"FLAG_PHONE\": 1, \"DAYS_ID_PUBLISH\": -5061, \"LIVE_CITY_NOT_WORK_CITY\": 1, \"EXT_SOURCE_3\": 0.3185955240537633, \"DEF_60_CNT_SOCIAL_CIRCLE\": 0.0, \"ANNUITY_INCOME_PERCENT\": 0.23331666666666667, \"FLAG_DOCUMENT_3\": 1, \"AMT_CREDIT\": 1523358.0, \"DEF_30_CNT_SOCIAL_CIRCLE\": 0.0, \"DAYS_LAST_PHONE_CHANGE\": -3223.0, \"REGION_RATING_CLIENT\": 3, \"TOTALAREA_MODE\": 0.1858, \"REG_REGION_NOT_LIVE_REGION\": 0, \"AMT_GOODS_PRICE\": 1422000.0, \"FLOORSMAX_AVG\": 0.3333}'"
      ]
     },
     "execution_count": 59,
     "metadata": {},
     "output_type": "execute_result"
    }
   ],
   "source": [
    "import json\n",
    "d = db_test[categorical_feats_filtered + numeric_feats_filtered].loc[2].to_dict()\n",
    "j = json.dumps(d)\n",
    "j"
   ]
  },
  {
   "cell_type": "code",
   "execution_count": 60,
   "id": "c09f0a9f-1c56-49d4-b1ff-6a4209156b2c",
   "metadata": {},
   "outputs": [
    {
     "name": "stdout",
     "output_type": "stream",
     "text": [
      "<class 'int'>\n",
      "value is  0\n"
     ]
    }
   ],
   "source": [
    "test = 0\n",
    "\n",
    "print(type(test))\n",
    "if type(test) is int and test >= 0:\n",
    "    print('value is ', test)\n",
    "else:\n",
    "    print('no value')"
   ]
  },
  {
   "cell_type": "code",
   "execution_count": null,
   "id": "3a0aa467-f021-43f2-a313-0acb1a21b5c0",
   "metadata": {},
   "outputs": [],
   "source": []
  }
 ],
 "metadata": {
  "kernelspec": {
   "display_name": "Python 3 (ipykernel)",
   "language": "python",
   "name": "python3"
  },
  "language_info": {
   "codemirror_mode": {
    "name": "ipython",
    "version": 3
   },
   "file_extension": ".py",
   "mimetype": "text/x-python",
   "name": "python",
   "nbconvert_exporter": "python",
   "pygments_lexer": "ipython3",
   "version": "3.8.12"
  }
 },
 "nbformat": 4,
 "nbformat_minor": 5
}
